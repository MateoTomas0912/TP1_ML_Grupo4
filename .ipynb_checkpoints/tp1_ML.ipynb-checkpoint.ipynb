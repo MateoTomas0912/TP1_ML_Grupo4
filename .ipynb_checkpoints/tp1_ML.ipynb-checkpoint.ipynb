{
 "cells": [
  {
   "cell_type": "markdown",
   "id": "d1a53c08-dcf2-4573-894c-95a695d95d1d",
   "metadata": {},
   "source": [
    "# TP 1 Machine Learning\n",
    "\n",
    "## Predict Online Gaming Behavior Dataset"
   ]
  },
  {
   "cell_type": "markdown",
   "id": "fe9bfd7f-0e5c-4618-92b7-42a7a00d8c21",
   "metadata": {},
   "source": [
    "El dataset proporcionado contiene información sobre el comportamiento de jugadores en línea. Cada fila representa un jugador y está compuesta por varias características. A continuación, se explica el contenido de cada variable y se define su uso como variable de entrada, salida o no utilizada."
   ]
  },
  {
   "cell_type": "markdown",
   "id": "abd9d660-6309-4909-a130-5a3dda962ddd",
   "metadata": {},
   "source": [
    "### Descripción de Variables\n",
    "\n",
    "1. **PlayerID**: Un identificador único para cada jugador.  \n",
    "   - **Uso**: No utilizada. No aporta información relevante para la predicción.\n",
    "\n",
    "<br>\n",
    "\n",
    "2. **Age**: Edad del jugador.  \n",
    "   - **Uso**: Variable de entrada. Puede influir en el nivel de engagement.\n",
    "\n",
    "<br>\n",
    "\n",
    "3. **Gender**: Género del jugador (Male/Female).  \n",
    "   - **Uso**: Variable de entrada. Puede influir en el nivel de engagement.\n",
    "\n",
    "<br>\n",
    "\n",
    "4. **Location**: Región geográfica del jugador.  \n",
    "   - **Uso**: Variable de entrada. Las diferencias culturales y regionales podrían influir en el engagement.\n",
    "\n",
    "<br>\n",
    "\n",
    "5. **GameGenre**: Género del juego preferido por el jugador (Strategy, Sports, Action, etc.).  \n",
    "   - **Uso**: Variable de entrada. Puede influir en los patrones de engagement.\n",
    "\n",
    "<br>\n",
    "\n",
    "6. **PlayTimeHours**: Cantidad total de horas jugadas.  \n",
    "   - **Uso**: Variable de entrada. El tiempo de juego podría estar relacionado con el engagement.\n",
    "\n",
    "<br>\n",
    "\n",
    "7. **InGamePurchases**: Número de compras realizadas dentro del juego.  \n",
    "   - **Uso**: Variable de entrada. Las compras dentro del juego pueden ser indicativas de engagement.\n",
    "\n",
    "<br>\n",
    "\n",
    "8. **GameDifficulty**: Nivel de dificultad del juego (Easy, Medium, Hard).  \n",
    "   - **Uso**: Variable de entrada. La dificultad del juego puede afectar el nivel de engagement del jugador.\n",
    "\n",
    "<br>\n",
    "\n",
    "9. **SessionsPerWeek**: Número de sesiones de juego por semana.  \n",
    "   - **Uso**: Variable de entrada. La frecuencia de juego puede estar correlacionada con el engagement.\n",
    "\n",
    "<br>\n",
    "\n",
    "10. **AvgSessionDurationMinutes**: Duración promedio de cada sesión de juego en minutos.  \n",
    "    - **Uso**: Variable de entrada. La duración de las sesiones puede ser un indicador del nivel de engagement.\n",
    "\n",
    "<br>\n",
    "\n",
    "11. **PlayerLevel**: Nivel del jugador dentro del juego.  \n",
    "    - **Uso**: Variable de entrada. El nivel del jugador podría reflejar su experiencia y engagement.\n",
    "\n",
    "<br>\n",
    "\n",
    "12. **AchievementsUnlocked**: Número de logros desbloqueados por el jugador.  \n",
    "    - **Uso**: Variable de entrada. Los logros desbloqueados pueden ser un buen predictor del engagement.\n",
    "\n",
    "<br>\n",
    "\n",
    "13. **EngagementLevel**: Nivel de engagement del jugador (Low, Medium, High).  \n",
    "    - **Uso**: Variable de salida. Los valores posibles son \"Low\", \"Medium\", y \"High\".\n",
    "\n",
    "<br>\n"
   ]
  },
  {
   "cell_type": "code",
   "execution_count": null,
   "id": "8620eee7-43bf-45c9-84fc-85688d2e4655",
   "metadata": {},
   "outputs": [],
   "source": []
  }
 ],
 "metadata": {
  "kernelspec": {
   "display_name": "Python 3 (ipykernel)",
   "language": "python",
   "name": "python3"
  },
  "language_info": {
   "codemirror_mode": {
    "name": "ipython",
    "version": 3
   },
   "file_extension": ".py",
   "mimetype": "text/x-python",
   "name": "python",
   "nbconvert_exporter": "python",
   "pygments_lexer": "ipython3",
   "version": "3.12.4"
  }
 },
 "nbformat": 4,
 "nbformat_minor": 5
}
