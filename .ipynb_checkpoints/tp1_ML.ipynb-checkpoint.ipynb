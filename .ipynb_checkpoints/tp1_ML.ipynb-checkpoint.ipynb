{
 "cells": [
  {
   "cell_type": "markdown",
   "id": "d1a53c08-dcf2-4573-894c-95a695d95d1d",
   "metadata": {},
   "source": [
    "# TP 1 Machine Learning\n",
    "\n",
    "## Predict Online Gaming Behavior Dataset"
   ]
  },
  {
   "cell_type": "markdown",
   "id": "fe9bfd7f-0e5c-4618-92b7-42a7a00d8c21",
   "metadata": {},
   "source": [
    "El dataset proporcionado contiene información sobre el comportamiento de jugadores en línea. Cada fila representa un jugador y está compuesta por varias características. A continuación, se explica el contenido de cada variable y se define su uso como variable de entrada, salida o no utilizada."
   ]
  },
  {
   "cell_type": "markdown",
   "id": "abd9d660-6309-4909-a130-5a3dda962ddd",
   "metadata": {},
   "source": [
    "### Descripción de Variables\n",
    "\n",
    "1. **PlayerID**: Un identificador único para cada jugador.  \n",
    "   - **Uso**: No utilizada. No aporta información relevante para la predicción.\n",
    "\n",
    "<br>\n",
    "\n",
    "2. **Age**: Edad del jugador.  \n",
    "   - **Uso**: Variable de entrada. Puede influir en el nivel de engagement.\n",
    "\n",
    "<br>\n",
    "\n",
    "3. **Gender**: Género del jugador (Male/Female).  \n",
    "   - **Uso**: Variable de entrada. Puede influir en el nivel de engagement.\n",
    "\n",
    "<br>\n",
    "\n",
    "4. **Location**: Región geográfica del jugador.  \n",
    "   - **Uso**: Variable de entrada. Las diferencias culturales y regionales podrían influir en el engagement.\n",
    "\n",
    "<br>\n",
    "\n",
    "5. **GameGenre**: Género del juego preferido por el jugador (Strategy, Sports, Action, etc.).  \n",
    "   - **Uso**: Variable de entrada. Puede influir en los patrones de engagement.\n",
    "\n",
    "<br>\n",
    "\n",
    "6. **PlayTimeHours**: Cantidad total de horas jugadas.  \n",
    "   - **Uso**: Variable de entrada. El tiempo de juego podría estar relacionado con el engagement.\n",
    "\n",
    "<br>\n",
    "\n",
    "7. **InGamePurchases**: Número de compras realizadas dentro del juego.  \n",
    "   - **Uso**: Variable de entrada. Las compras dentro del juego pueden ser indicativas de engagement.\n",
    "\n",
    "<br>\n",
    "\n",
    "8. **GameDifficulty**: Nivel de dificultad del juego (Easy, Medium, Hard).  \n",
    "   - **Uso**: Variable de entrada. La dificultad del juego puede afectar el nivel de engagement del jugador.\n",
    "\n",
    "<br>\n",
    "\n",
    "9. **SessionsPerWeek**: Número de sesiones de juego por semana.  \n",
    "   - **Uso**: Variable de entrada. La frecuencia de juego puede estar correlacionada con el engagement.\n",
    "\n",
    "<br>\n",
    "\n",
    "10. **AvgSessionDurationMinutes**: Duración promedio de cada sesión de juego en minutos.  \n",
    "    - **Uso**: Variable de entrada. La duración de las sesiones puede ser un indicador del nivel de engagement.\n",
    "\n",
    "<br>\n",
    "\n",
    "11. **PlayerLevel**: Nivel del jugador dentro del juego.  \n",
    "    - **Uso**: Variable de entrada. El nivel del jugador podría reflejar su experiencia y engagement.\n",
    "\n",
    "<br>\n",
    "\n",
    "12. **AchievementsUnlocked**: Número de logros desbloqueados por el jugador.  \n",
    "    - **Uso**: Variable de entrada. Los logros desbloqueados pueden ser un buen predictor del engagement.\n",
    "\n",
    "<br>\n",
    "\n",
    "13. **EngagementLevel**: Nivel de engagement del jugador (Low, Medium, High).  \n",
    "    - **Uso**: Variable de salida. Los valores posibles son \"Low\", \"Medium\", y \"High\".\n",
    "\n",
    "<br>\n"
   ]
  },
  {
   "cell_type": "code",
   "execution_count": null,
   "id": "ce6e747a-6a2d-4887-b64f-6488d4a7785a",
   "metadata": {},
   "outputs": [],
   "source": [
    "import pandas as pd\n",
    "import seaborn as sns\n",
    "import matplotlib.pyplot as plt\n",
    "\n",
    "# Cargar el dataset\n",
    "df = pd.read_csv('online_gaming_behavior_dataset.csv')\n",
    "\n",
    "# Visualizar las primeras filas del dataframe\n",
    "df.head()"
   ]
  },
  {
   "cell_type": "code",
   "execution_count": null,
   "id": "8af0a0f0-4488-4353-8c8e-22479fbdb247",
   "metadata": {},
   "outputs": [],
   "source": [
    "#Eliminamos la columna PlayerID que no sera utilizada\n",
    "df.drop('PlayerID', axis=1, inplace=True)\n",
    "\n",
    "df.head()"
   ]
  },
  {
   "cell_type": "markdown",
   "id": "bcbf0f85-eb82-4cc9-b186-a5246da55f10",
   "metadata": {
    "jp-MarkdownHeadingCollapsed": true
   },
   "source": [
    "## Análisis detallado de un conjunto de variables\n",
    "2.1 Distribución de la Variable de Salida: EngagementLevel\n",
    "\n",
    "Primero, vamos a analizar y graficar la distribución de la variable de salida EngagementLevel para entender cómo se distribuyen los datos."
   ]
  },
  {
   "cell_type": "code",
   "execution_count": null,
   "id": "715324e9-e2c6-4f68-80c1-2903e9d2ea82",
   "metadata": {},
   "outputs": [],
   "source": [
    "contar_level = (df['EngagementLevel'].value_counts()).sort_index()\n",
    "print(contar_level)"
   ]
  },
  {
   "cell_type": "code",
   "execution_count": null,
   "id": "c2d09e2e-e318-4126-a194-291ec6a68e6a",
   "metadata": {},
   "outputs": [],
   "source": [
    "# Distribución de la variable de salida\n",
    "plt.figure(figsize=(8, 6))\n",
    "sns.countplot(x='EngagementLevel', data=df)\n",
    "plt.title('Distribución de la Variable de Salida: EngagementLevel')\n",
    "plt.xlabel('Engagement Level')\n",
    "plt.ylabel('Conteo')\n",
    "plt.show()"
   ]
  },
  {
   "cell_type": "markdown",
   "id": "29283220-76b6-4f12-9fd2-c85d475979f8",
   "metadata": {},
   "source": [
    "La gráfica nos muestra cómo se distribuyen los niveles de engagement (Low, Medium, High) entre los jugadores. Es importante revisar si hay un desbalance en las clases, ya que podría afectar el rendimiento de los modelos predictivos.\n",
    "\n",
    "Posibles Consecuencias o Consideraciones:\n",
    "\n",
    "Si la distribución está desbalanceada (por ejemplo, muchos más datos en la categoría 'Medium'), se podrían considerar técnicas como el sobremuestreo o el submuestreo para equilibrar las clases y mejorar la precisión del modelo.\n",
    "Un desbalance podría indicar la necesidad de utilizar métricas como F1-score en lugar de solo precisión para evaluar el rendimiento del modelo.\n"
   ]
  },
  {
   "cell_type": "markdown",
   "id": "629f6af0-62f2-43e7-ac55-2f41facf9c18",
   "metadata": {},
   "source": [
    "2.2 Análisis Individual de Cada Variable de Entrada\n",
    "\n",
    "Ahora, realizamos un análisis para cada variable de entrada seleccionada.\n",
    "\n",
    "2.2.1 Edad (Age)"
   ]
  },
  {
   "cell_type": "code",
   "execution_count": null,
   "id": "f85c9dec-5f34-4dee-ac30-9c0f53038690",
   "metadata": {},
   "outputs": [],
   "source": [
    "plt.figure(figsize=(8, 6))\n",
    "sns.histplot(df['Age'], kde=True, bins=35)\n",
    "plt.title('Distribución de la Edad')\n",
    "plt.xlabel('Edad')\n",
    "plt.ylabel('Frecuencia')\n",
    "plt.show()\n"
   ]
  },
  {
   "cell_type": "markdown",
   "id": "6b3102e3-2dd5-4453-a412-a8e4aaf7af3e",
   "metadata": {},
   "source": [
    "Relación con EngagementLevel:\n"
   ]
  },
  {
   "cell_type": "code",
   "execution_count": null,
   "id": "ba4858bc-71b0-424d-aa21-7c9a0860d86e",
   "metadata": {},
   "outputs": [],
   "source": [
    "plt.figure(figsize=(8, 6))\n",
    "sns.boxplot(x='EngagementLevel', y='Age', data=df)\n",
    "plt.title('Relación entre Edad y EngagementLevel')\n",
    "plt.xlabel('Engagement Level')\n",
    "plt.ylabel('Edad')\n",
    "plt.show()"
   ]
  },
  {
   "cell_type": "markdown",
   "id": "b3984c8e-a0eb-476f-94ce-5fabe9a418a8",
   "metadata": {},
   "source": [
    "### Conclusion:\n",
    "Respecto al analisis individual con la linea de densidad estimada podemos ver que que las edades dentro del dataframe estan bastante bien balanceadas.\n",
    "\n",
    "En cuanto a la relacion con los datos de salida podemos ver que esta bastante bien distribuido entre edades y su EngagementLevel, es decir, que no tienen una relacion directa. Pero analizando, podemos decir que la edad media en los tres niveles es de aproximadamente 32 anios. El 50% de los usuarios esta entre 23/24 anios y 41 anios."
   ]
  },
  {
   "cell_type": "code",
   "execution_count": null,
   "id": "eefc223c-e60b-4f94-9dd4-307f12efba30",
   "metadata": {},
   "outputs": [],
   "source": [
    "# Contar cuántos usuarios hay de cada edad\n",
    "conteo_edades = (df['Age'].value_counts()).sort_index()\n",
    "\n",
    "# Edad máxima\n",
    "edad_maxima = df['Age'].max()\n",
    "\n",
    "# Edad mínima\n",
    "edad_minima = df['Age'].min()\n",
    "\n",
    "# Mostrar los resultados\n",
    "print(f\"Edad máxima: {edad_maxima}\")\n",
    "print(f\"Edad mínima: {edad_minima}\")\n",
    "\n",
    "# Mostrar el conteo\n",
    "print(conteo_edades)"
   ]
  },
  {
   "cell_type": "markdown",
   "id": "7884a5a3-b4e8-42d4-8d42-5cca9c4b90c8",
   "metadata": {},
   "source": [
    "2.2.2 Género (Gender)\n",
    "\n",
    "Distribución:"
   ]
  },
  {
   "cell_type": "code",
   "execution_count": null,
   "id": "db075447-0e32-49f7-a21a-9d16a7b71bf2",
   "metadata": {},
   "outputs": [],
   "source": [
    "plt.figure(figsize=(8, 6))\n",
    "sns.countplot(x='Gender', data=df)\n",
    "plt.title('Distribución de Género')\n",
    "plt.xlabel('Género')\n",
    "plt.ylabel('Conteo')\n",
    "plt.show()\n",
    "\n",
    "conteo_genero = df['Gender'].value_counts()\n",
    "print(conteo_genero)"
   ]
  },
  {
   "cell_type": "markdown",
   "id": "fb39beb9-80bf-402e-9aaf-c0df87619d3e",
   "metadata": {},
   "source": [
    "Relación con EngagementLevel:\n",
    "\n"
   ]
  },
  {
   "cell_type": "code",
   "execution_count": null,
   "id": "a8f9ef41-b28a-48cc-b973-447cdc39c5f9",
   "metadata": {},
   "outputs": [],
   "source": [
    "plt.figure(figsize=(8, 6))\n",
    "sns.countplot(x='Gender', hue='EngagementLevel', data=df)\n",
    "plt.title('Relación entre Género y EngagementLevel')\n",
    "plt.xlabel('Género')\n",
    "plt.ylabel('Conteo')\n",
    "plt.show()\n"
   ]
  },
  {
   "cell_type": "markdown",
   "id": "4f093cfe-30d8-449f-b7c5-6620ccfb5e6b",
   "metadata": {},
   "source": [
    "### Conclusion:\n",
    "Respecto al analisis individual podemos ver que la mayoria de los usuarios son hombres respecto a las mujeres, con una diferencia de 7884 usuarios.\n",
    "\n",
    "En cuanto a la relacion con los datos de salida, podemos visualizar que respecto a la distribucion de EngagementLevel dependiendo el genero esta muy bien distribuida las cantidades. Donde Low y High en los dos generos poseen casi la misma cantidad de usuarios, y en cuando al Medium posee el doble en los dos casos."
   ]
  },
  {
   "cell_type": "markdown",
   "id": "e1c2d21c-8fb2-4fae-a530-63d61ef5e748",
   "metadata": {},
   "source": [
    "2.2.3 Región (Location)\n",
    "\n",
    "Distribución:"
   ]
  },
  {
   "cell_type": "code",
   "execution_count": null,
   "id": "a2c859e2-17a8-41e2-aabb-8727cc0b0702",
   "metadata": {},
   "outputs": [],
   "source": [
    "plt.figure(figsize=(8, 6))\n",
    "sns.countplot(x='Location', data=df)\n",
    "plt.title('Distribución de la Ubicación Geográfica')\n",
    "plt.xlabel('Ubicación')\n",
    "plt.ylabel('Conteo')\n",
    "plt.show()\n"
   ]
  },
  {
   "cell_type": "markdown",
   "id": "678fe45a-5d45-493f-b467-84700076a29a",
   "metadata": {},
   "source": [
    "Relación con EngagementLevel:\n",
    "\n"
   ]
  },
  {
   "cell_type": "code",
   "execution_count": null,
   "id": "360dd2da-06f8-4ee7-9428-f28168ffee8f",
   "metadata": {},
   "outputs": [],
   "source": [
    "plt.figure(figsize=(10, 6))\n",
    "sns.countplot(x='Location', hue='EngagementLevel', data=df)\n",
    "plt.title('Relación entre Ubicación y EngagementLevel')\n",
    "plt.xlabel('Ubicación')\n",
    "plt.ylabel('Conteo')\n",
    "plt.show()\n"
   ]
  },
  {
   "cell_type": "markdown",
   "id": "4dde3044-1cc0-482c-8338-93f6fe88871c",
   "metadata": {},
   "source": [
    "### Conclusion:\n",
    "Respecto al analisis individual, la cantidad de usuarios de este DataFrame esta mayoritariamente obtenido de jugadores de USA, luego otro gran porcentaje de Europa y luego Asia y otros. La cantidad de usuarios de Asia mas otros, es casi igual que la cantidad de usuarios en Europa. Y la cantidad de usuarios de Europa mas otros es casi igual a la cantidad de usuarios de USA.\n",
    "\n",
    "Respecto a la relacion con los datos de salida podemos visualizar que en todas las ubicaciones predominan los usuarios Medium. Tambien, centrandonos por ubicacion, la cantidad de usuarios Medium es casi la suma de los usuarios High y Low."
   ]
  },
  {
   "cell_type": "markdown",
   "id": "6e8253a2-572c-4552-8720-2cf7e76fa763",
   "metadata": {},
   "source": [
    "2.2.4 Género de Juego (GameGenre)\n",
    "\n",
    "\n",
    "Distribución:"
   ]
  },
  {
   "cell_type": "code",
   "execution_count": null,
   "id": "463e9a17-8318-4251-8f33-b379e24bdb96",
   "metadata": {},
   "outputs": [],
   "source": [
    "plt.figure(figsize=(8, 6))\n",
    "sns.countplot(x='GameGenre', data=df)\n",
    "plt.title('Distribución del Género del Juego')\n",
    "plt.xlabel('Género del Juego')\n",
    "plt.ylabel('Conteo')\n",
    "plt.xticks(rotation=45)\n",
    "plt.show()\n"
   ]
  },
  {
   "cell_type": "markdown",
   "id": "225f00ce-75c1-4b35-91a9-8499db411898",
   "metadata": {},
   "source": [
    "Relación con EngagementLevel:\n",
    "\n"
   ]
  },
  {
   "cell_type": "code",
   "execution_count": null,
   "id": "3bf6f20f-2fa6-4874-a649-93c3bfaed082",
   "metadata": {},
   "outputs": [],
   "source": [
    "plt.figure(figsize=(10, 6))\n",
    "sns.countplot(x='GameGenre', hue='EngagementLevel', data=df)\n",
    "plt.title('Relación entre Género del Juego y EngagementLevel')\n",
    "plt.xlabel('Género del Juego')\n",
    "plt.ylabel('Conteo')\n",
    "plt.xticks(rotation=45)\n",
    "plt.show()\n"
   ]
  },
  {
   "cell_type": "markdown",
   "id": "fa5d6840-9590-4bd6-851b-28ac6ea52b04",
   "metadata": {},
   "source": [
    "### Conclusion:\n",
    "Respecto al analisis individual, esta muy balanceado la cantidad de usuarios por genero de juego. Esto lo hace un dato bastante util para utilizar en temas de aprendizaje.\n",
    "\n",
    "En cuanto a la relacion con los datos de salida nuevamente, por genero de juego, los usuarios High y Low poseen casi la misma cantidad de jugadores. Y su suma, da parecido a los usuarios Medium. Otra cosa a tener en cuenta, que en todos los EngagementLevel de cada genero de juego, poseen casi la misma cantidad de usuarios Medium."
   ]
  },
  {
   "cell_type": "markdown",
   "id": "b4277a5f-413d-4068-a204-1ccf5a6705ef",
   "metadata": {},
   "source": [
    "2.2.5 Tiempo de Juego (PlayTimeHours)\n",
    "\n",
    "\n",
    "Distribución:"
   ]
  },
  {
   "cell_type": "code",
   "execution_count": null,
   "id": "7043acdb-fcb8-4758-ba53-85dc67b8c21d",
   "metadata": {},
   "outputs": [],
   "source": [
    "plt.figure(figsize=(8, 6))\n",
    "sns.histplot(df['PlayTimeHours'], kde=True)\n",
    "plt.title('Distribución del Tiempo de Juego')\n",
    "plt.xlabel('Horas de Juego')\n",
    "plt.ylabel('Frecuencia')\n",
    "plt.show()\n"
   ]
  },
  {
   "cell_type": "markdown",
   "id": "90ec5452-95ec-4bb0-b8d1-4549683b8af7",
   "metadata": {},
   "source": [
    "Relación con EngagementLevel:\n",
    "\n"
   ]
  },
  {
   "cell_type": "code",
   "execution_count": null,
   "id": "5a1afce6-32bd-4ce5-98eb-7a482938182c",
   "metadata": {},
   "outputs": [],
   "source": [
    "plt.figure(figsize=(8, 6))\n",
    "sns.boxplot(x='EngagementLevel', y='PlayTimeHours', data=df)\n",
    "plt.title('Relación entre Tiempo de Juego y EngagementLevel')\n",
    "plt.xlabel('Engagement Level')\n",
    "plt.ylabel('Horas de Juego')\n",
    "plt.show()\n"
   ]
  },
  {
   "cell_type": "markdown",
   "id": "6eca4b0c-ac91-4f83-9f8e-6c500a7b7533",
   "metadata": {},
   "source": [
    "### Conclusion:\n",
    "Respecto al analisis indivual no se muestra una tendencia de la cantidad de horas jugadas. Solamente se puede ver en las puntas que nadie juega o muy poco o demasiado(24hrs).\n",
    "\n",
    "En cuanto a la relacion en con los datos de salida el EngagementLevel no tiene un efecto muy directo respecto a la relacion con las horas de juego, lo que hace que las distribuciones sean bastante similares. Podriamos decir, sin importar su EngagementLevel la media de horas es de 12/13 horas, y el 50% de los usuarios de cada uno juega entre 6 horas y 18 horas."
   ]
  },
  {
   "cell_type": "markdown",
   "id": "074d1e6d-2fc9-4db4-8dc2-50bc90c4346a",
   "metadata": {},
   "source": [
    "2.2.6 Compras en el Juego (InGamePurchases)\n",
    "\n",
    "\n",
    "Distribución:"
   ]
  },
  {
   "cell_type": "code",
   "execution_count": null,
   "id": "6c2a1e42-e58d-4099-b12a-fe6bf7d501bf",
   "metadata": {},
   "outputs": [],
   "source": [
    "counts = df['InGamePurchases'].value_counts()\n",
    "\n",
    "plt.figure(figsize=(8, 6))\n",
    "sns.barplot(x=counts.index, y=counts.values, palette=\"viridis\")\n",
    "plt.title('Distribución de Compras en el Juego')\n",
    "plt.xlabel('Compras en el Juego (0: No, 1: Sí)')\n",
    "plt.ylabel('Frecuencia')\n",
    "plt.show()\n",
    "\n",
    "cantidad_pagos=df['InGamePurchases'].value_counts()\n",
    "print(cantidad_pagos)"
   ]
  },
  {
   "cell_type": "markdown",
   "id": "d5e61d46-5b88-42ec-97ec-ecace0eb0f1b",
   "metadata": {},
   "source": [
    "Relación con EngagementLevel:"
   ]
  },
  {
   "cell_type": "code",
   "execution_count": null,
   "id": "bad40a52-04dd-4160-af7d-561f8f2621df",
   "metadata": {},
   "outputs": [],
   "source": [
    "plt.figure(figsize=(8, 6))\n",
    "sns.countplot(x='EngagementLevel', hue='InGamePurchases', data=df, palette=\"viridis\")\n",
    "\n",
    "# Personalizar el gráfico\n",
    "plt.title('Relación entre Compras en el Juego y EngagementLevel')\n",
    "plt.xlabel('Engagement Level')\n",
    "plt.ylabel('Frecuencia')\n",
    "\n",
    "plt.legend(title='Compras en el Juego', labels=['No', 'Sí'])\n",
    "\n",
    "plt.show()"
   ]
  },
  {
   "cell_type": "markdown",
   "id": "cb5fc193-40c0-4bc6-82a0-e6a61be43a1b",
   "metadata": {},
   "source": [
    "### Conclusion:\n",
    "Respecto al analisis individual podemos ver notoriamente que aproximadamente 8000 usuarios solamente compran cosas dentro de los juegos, siendo un 20% del total. Esto podria afectar a alguna salida.\n",
    "\n",
    "Si comparamos con los datos de salida, podemos ver que esta bien distribuido el tema del 20% de usuarios que compran dentro del juego segun su EngagementLevel. Vemos que sea lo que sea que compren dentro del juego no altera demasiado el EngagementLevel con el que se los clasifico. Puede ser una variante que ayude, pero no se ve que influya tan directamente."
   ]
  },
  {
   "cell_type": "markdown",
   "id": "b8906c05-adf9-4135-912a-dc7b41575f20",
   "metadata": {},
   "source": [
    "2.2.7 Dificultad del Juego (GameDifficulty)\n",
    "\n",
    "Distribución:"
   ]
  },
  {
   "cell_type": "code",
   "execution_count": null,
   "id": "bfb8b525-ceb5-421b-bfda-a55dbaa64131",
   "metadata": {},
   "outputs": [],
   "source": [
    "plt.figure(figsize=(8, 6))\n",
    "sns.countplot(x='GameDifficulty', data=df)\n",
    "plt.title('Distribución de la Dificultad del Juego')\n",
    "plt.xlabel('Dificultad del Juego')\n",
    "plt.ylabel('Conteo')\n",
    "plt.show()\n"
   ]
  },
  {
   "cell_type": "markdown",
   "id": "d2144e90-948d-4e5b-8b28-4f6bb75d1175",
   "metadata": {},
   "source": [
    "Relación con EngagementLevel:\n",
    "\n"
   ]
  },
  {
   "cell_type": "code",
   "execution_count": null,
   "id": "1b7dd453-1f98-48c2-a446-8ac3eba5418d",
   "metadata": {},
   "outputs": [],
   "source": [
    "plt.figure(figsize=(8, 6))\n",
    "sns.countplot(x='GameDifficulty', hue='EngagementLevel', data=df)\n",
    "plt.title('Relación entre Dificultad del Juego y EngagementLevel')\n",
    "plt.xlabel('Dificultad del Juego')\n",
    "plt.ylabel('Conteo')\n",
    "plt.show()\n"
   ]
  },
  {
   "cell_type": "markdown",
   "id": "48caa453-78fb-4484-b999-fe61fcc237b8",
   "metadata": {},
   "source": [
    "### Conclusion:\n",
    "Analizando los datos individualmente, vemos que la mayoria de los usuarios juega en dificultad facil siendo casi el 50% de los mismos, entonces podemos decir que no esta distribuido equitativamente entre las dificultades. Podriamos tener en cuenta de que este se veria reflejado en la salida.\n",
    "\n",
    "Ahora, si los comparamos con los datos de salida vemos que casi el 50% de usuarios en EngagementLevel Medium juega en dificultad facil siendo un factor que afecta directamente a la clasificacion. Por otro lado en las tres dificultades la suma de los EngagementLevel Low y High da el valor de Medium."
   ]
  },
  {
   "cell_type": "markdown",
   "id": "34901c4c-cd9c-4305-9d93-bd5001fa1ddf",
   "metadata": {},
   "source": [
    "2.2.8 Sesiones por Semana (SessionsPerWeek)\n",
    "\n",
    "Distribución:"
   ]
  },
  {
   "cell_type": "code",
   "execution_count": null,
   "id": "44e8fbc9-603d-480f-9edf-38d1f0bd1639",
   "metadata": {},
   "outputs": [],
   "source": [
    "plt.figure(figsize=(8, 6))\n",
    "sns.histplot(df['SessionsPerWeek'], kde=True, bins=20)\n",
    "plt.title('Distribución de Sesiones por Semana')\n",
    "plt.xlabel('Sesiones por Semana')\n",
    "plt.ylabel('Frecuencia')\n",
    "plt.xticks(range(0, 21, 2))\n",
    "plt.show()\n",
    "\n",
    "#ayuda para ver bien las cantidades\n",
    "sesiones = (df['SessionsPerWeek'].value_counts()).sort_index()\n",
    "print(sesiones)"
   ]
  },
  {
   "cell_type": "markdown",
   "id": "9e215567-c7e8-4c94-a340-d4dbea330cce",
   "metadata": {},
   "source": [
    "Relación con EngagementLevel:"
   ]
  },
  {
   "cell_type": "code",
   "execution_count": null,
   "id": "a26f612b-279d-4e4d-93e1-7c1969d79af2",
   "metadata": {},
   "outputs": [],
   "source": [
    "plt.figure(figsize=(8, 6))\n",
    "sns.boxplot(x='EngagementLevel', y='SessionsPerWeek', data=df)\n",
    "plt.title('Relación entre Sesiones por Semana y EngagementLevel')\n",
    "plt.xlabel('Engagement Level')\n",
    "plt.ylabel('Sesiones por Semana')\n",
    "plt.show()\n"
   ]
  },
  {
   "cell_type": "markdown",
   "id": "d9b0cb16-bf32-4096-b229-4c2b84256688",
   "metadata": {},
   "source": [
    "### Conclusion:\n",
    "En cuanto al analisis individual podemos decir que posee una distribucion bastante balanceada entre los jugadores y las sesiones por semana. Existe un pico entre las 7 y 8 sesiones donde varia la minima.\n",
    "\n",
    "Respecto a la comparacion con los datos de salida, vemos que influye directamente la cantidad de sesiones por semana respecto al EngagementLevel asignado. Corroboramos que los asignados como High poseen una media de sesiones por semana mayor(15 sesiones) a los demas, teniendo casi su 50% de usuarios sobre los demas EngagementLevel(Low y Medium). Podemos afirmar que las sesiones por semana van a definir que EngagementLevel se te asigne. Mas sesiones, mejor asignacion."
   ]
  },
  {
   "cell_type": "markdown",
   "id": "9dbb404a-72ed-4eab-8aa3-b2e9156011eb",
   "metadata": {},
   "source": [
    "2.2.9 Duración Promedio de Sesión (AvgSessionDurationMinutes)\n",
    "\n",
    "Distribución:"
   ]
  },
  {
   "cell_type": "code",
   "execution_count": null,
   "id": "0a86a117-a8e4-41f2-a067-559d388f1f59",
   "metadata": {},
   "outputs": [],
   "source": [
    "plt.figure(figsize=(8, 6))\n",
    "sns.histplot(df['AvgSessionDurationMinutes'], kde=True)\n",
    "plt.title('Distribución de la Duración Promedio de Sesión')\n",
    "plt.xlabel('Duración Promedio de Sesión (Minutos)')\n",
    "plt.ylabel('Frecuencia')\n",
    "plt.show()\n"
   ]
  },
  {
   "cell_type": "markdown",
   "id": "5475ceee-8547-4a8c-a079-2ba9da21f581",
   "metadata": {},
   "source": [
    "Relación con EngagementLevel:\n",
    "\n"
   ]
  },
  {
   "cell_type": "code",
   "execution_count": null,
   "id": "0cecf598-1183-4b06-af29-0347d6b410fb",
   "metadata": {},
   "outputs": [],
   "source": [
    "plt.figure(figsize=(8, 6))\n",
    "sns.boxplot(x='EngagementLevel', y='AvgSessionDurationMinutes', data=df)\n",
    "plt.title('Relación entre Duración Promedio de Sesión y EngagementLevel')\n",
    "plt.xlabel('Engagement Level')\n",
    "plt.ylabel('Duración Promedio de Sesión (Minutos)')\n",
    "plt.show()\n"
   ]
  },
  {
   "cell_type": "markdown",
   "id": "1d291533-1128-415d-a6ce-e581ec6d0b4d",
   "metadata": {},
   "source": [
    "### Conclusion:\n",
    "Respecto al analisis individual de los datos podemos visualizar que esta bastante bien distribuido el promedio de minutos en sesion. Existen algunos picos bajos en cinco ocaciones, que a criterio nuestro puede ser dado a que son el tiempo suficiente o normal de algunas partidas de algunos juegos. Estos picos se ven en los 30 min, 60 min, 90 min, 120 min y 150 min. Siendo, el promedio de 30 min la demora de una partida de X juego. Teniendo en cuenta que juegue la partida(1, 2, 3, 4, o 5 partidas) y se salga.\n",
    "\n",
    "Si lo analizamos comparando con los datos de salida nuevamente podemos ver que afecta directamente al EngagementLevel asignado el promedio de minutos por sesion. Mientras mas dure la sesion, mas posibilidades de que tu EngagementLevel sea el mas alto."
   ]
  },
  {
   "cell_type": "markdown",
   "id": "54627f6c-d14d-4040-9183-091999495eb2",
   "metadata": {},
   "source": [
    "2.2.10 Nivel del Jugador (PlayerLevel)\n",
    "\n",
    "Distribución:"
   ]
  },
  {
   "cell_type": "code",
   "execution_count": null,
   "id": "01b78dad-8935-42aa-9b42-23bafb34f389",
   "metadata": {},
   "outputs": [],
   "source": [
    "plt.figure(figsize=(14, 6))\n",
    "sns.histplot(df['PlayerLevel'], kde=True, bins=99)\n",
    "plt.title('Distribución del Nivel del Jugador')\n",
    "plt.xlabel('Nivel del Jugador')\n",
    "plt.ylabel('Frecuencia')\n",
    "plt.xticks(range(0, 100, 2))\n",
    "plt.show\n",
    "\n",
    "playerLevel = (df['PlayerLevel'].value_counts()).sort_index()\n",
    "playerLevel= playerLevel.loc[49:49]\n",
    "print(playerLevel)"
   ]
  },
  {
   "cell_type": "markdown",
   "id": "c6d41587-3b8e-4e09-a28c-2185f8cfd20e",
   "metadata": {},
   "source": [
    "Relación con EngagementLevel:\n",
    "\n"
   ]
  },
  {
   "cell_type": "code",
   "execution_count": null,
   "id": "188d1598-3d7e-4644-9645-3dd0fe9d1e0b",
   "metadata": {},
   "outputs": [],
   "source": [
    "plt.figure(figsize=(8, 6))\n",
    "sns.boxplot(x='EngagementLevel', y='PlayerLevel', data=df)\n",
    "plt.title('Relación entre Nivel del Jugador y EngagementLevel')\n",
    "plt.xlabel('Engagement Level')\n",
    "plt.ylabel('Nivel del Jugador')\n",
    "plt.show()\n"
   ]
  },
  {
   "cell_type": "markdown",
   "id": "7c2cf9ba-a576-49b5-99e4-94f0f248cc24",
   "metadata": {},
   "source": [
    "### Conclusion:\n",
    "Analizando los datos individualmente podemos ver que la distribucion es balanceada en cuanto al nivel de jugador aunque se visualizan algunos picos inferiores en algunos determinados niveles. No se puede sacar muchas concluciones solo con el dato del nivel del jugador.\n",
    "\n",
    "Respecto a la comparativa de los datos de salida los jugadores con EngagementLevel High y Medium poseen una distribucion muy parecida en cuanto al nivel. Respecto a los denominados Low afirmamos que poseen un nivel de jugador menor."
   ]
  },
  {
   "cell_type": "markdown",
   "id": "a086ab4d-2c67-4cfd-b241-f17e9a8c98e5",
   "metadata": {},
   "source": [
    "2.2.11 Logros Desbloqueados (AchievementsUnlocked)\n",
    "\n",
    "Distribución:"
   ]
  },
  {
   "cell_type": "code",
   "execution_count": null,
   "id": "3ae89f19-9859-45a1-9787-30927d5afd2e",
   "metadata": {},
   "outputs": [],
   "source": [
    "plt.figure(figsize=(8, 6))\n",
    "sns.histplot(df['AchievementsUnlocked'], kde=True, bins=50)\n",
    "plt.title('Distribución de Logros Desbloqueados')\n",
    "plt.xlabel('Logros Desbloqueados')\n",
    "plt.ylabel('Frecuencia')\n",
    "plt.show()\n"
   ]
  },
  {
   "cell_type": "markdown",
   "id": "3c732a16-5ae7-4578-9d75-cabf3dd1b4ec",
   "metadata": {},
   "source": [
    "Relación con EngagementLevel:\n",
    "\n"
   ]
  },
  {
   "cell_type": "code",
   "execution_count": null,
   "id": "2748a60b-fae0-4c97-b685-729098872ef9",
   "metadata": {},
   "outputs": [],
   "source": [
    "plt.figure(figsize=(8, 6))\n",
    "sns.boxplot(x='EngagementLevel', y='AchievementsUnlocked', data=df)\n",
    "plt.title('Relación entre Logros Desbloqueados y EngagementLevel')\n",
    "plt.xlabel('Engagement Level')\n",
    "plt.ylabel('Logros Desbloqueados')\n",
    "plt.show()\n"
   ]
  },
  {
   "cell_type": "markdown",
   "id": "f688a81b-23ec-4376-8ec3-07ae41321611",
   "metadata": {},
   "source": [
    "### Conclusion:\n",
    "Analizando los datos individualmente visualizamos que la distribucion esta bastante balanceada en la cantidad de logros que tiene cada usuario. No es un dato muy observable para determinar algo.\n",
    "\n",
    "Si lo analizamos con respecto a los datos de salida, podemos decir que los EngagementLevel Hight y Medium poseen un promedio de logros mayor que uno de nivel Low."
   ]
  },
  {
   "cell_type": "markdown",
   "id": "ca765e61-c9a5-4af7-bdf4-7a94d650be2c",
   "metadata": {},
   "source": [
    "### Transformacion de valores \n",
    "\n",
    "Transformamos valores de tipo objeto a valores numericos "
   ]
  },
  {
   "cell_type": "code",
   "execution_count": null,
   "id": "71ea6481-6d82-4f91-9ddc-99dda82ab1a4",
   "metadata": {},
   "outputs": [],
   "source": [
    "from sklearn.preprocessing import LabelEncoder\n",
    "import pandas as pd\n",
    "\n",
    "# Identificar las columnas de tipo 'object' o 'string'\n",
    "categorical_columns = df.select_dtypes(include=['object']).columns\n",
    "\n",
    "# Exploración inicial de las variables categóricas\n",
    "print(f\"Columnas categóricas: {categorical_columns}\")\n",
    "\n",
    "# Creación de una copia del dataframe para trabajar en las transformaciones\n",
    "df_encoded = df.copy()\n",
    "\n",
    "# Transformación de variables categóricas a valores numéricos\n",
    "for column in categorical_columns:\n",
    "    # Verificar la cantidad de categorías en la variable\n",
    "    unique_values = df_encoded[column].nunique()\n",
    "\n",
    "    if unique_values <= 10:\n",
    "        # Aplicar One-Hot Encoding si la variable tiene pocas categorías\n",
    "        df_encoded = pd.get_dummies(df_encoded, columns=[column], drop_first=False)\n",
    "    else:\n",
    "        # Aplicar Label Encoding si la variable tiene muchas categorías\n",
    "        label_encoder = LabelEncoder()\n",
    "        df_encoded[column] = label_encoder.fit_transform(df_encoded[column])\n",
    "\n",
    "# Transformar columnas booleanas a 0 y 1\n",
    "for column in df_encoded.select_dtypes(include=['bool']).columns:\n",
    "    df_encoded[column] = df_encoded[column].astype(int)\n",
    "\n",
    "# Verificar la transformación\n",
    "df_encoded.head()\n"
   ]
  },
  {
   "cell_type": "code",
   "execution_count": null,
   "id": "5f7eed9e-a132-4aad-9269-7ca1262b6138",
   "metadata": {},
   "outputs": [],
   "source": [
    "df_encoded.info()"
   ]
  },
  {
   "cell_type": "markdown",
   "id": "78be092f-ed73-4f05-9c46-c1d1828bc810",
   "metadata": {},
   "source": [
    "2.3 Análisis de Valores Nulos y Extremos\n",
    "\n",
    "Vamos a verificar si las variables de entrada seleccionadas presentan valores nulos o extremos."
   ]
  },
  {
   "cell_type": "code",
   "execution_count": null,
   "id": "bb04d1b4-9cf2-40f7-bb80-4a0c5af8f2d2",
   "metadata": {},
   "outputs": [],
   "source": [
    "# Verificación de valores nulos en todo el DataFrame\n",
    "missing_values = df_encoded.isnull().sum()\n",
    "print(\"Valores nulos por columna:\")\n",
    "print(missing_values[missing_values > 0])"
   ]
  },
  {
   "cell_type": "code",
   "execution_count": null,
   "id": "e50a7142-e56a-4680-a047-f74bec700ec9",
   "metadata": {},
   "outputs": [],
   "source": [
    "# Identificación de columnas numéricas continuas\n",
    "numeric_columns = df_encoded.select_dtypes(include=['float64', 'int64']).columns\n",
    "\n",
    "# Exclusión de columnas booleanas\n",
    "numeric_columns = [col for col in numeric_columns if df_encoded[col].nunique() > 2]\n",
    "\n",
    "# Verificación de valores extremos (outliers) utilizando el método IQR\n",
    "Q1 = df_encoded[numeric_columns].quantile(0.25)\n",
    "Q3 = df_encoded[numeric_columns].quantile(0.75)\n",
    "IQR = Q3 - Q1\n",
    "outliers = ((df_encoded[numeric_columns] < (Q1 - 1.5 * IQR)) | \n",
    "            (df_encoded[numeric_columns] > (Q3 + 1.5 * IQR))).sum()\n",
    "\n",
    "print(\"Valores extremos por columna numérica:\")\n",
    "print(outliers[outliers > 0])"
   ]
  },
  {
   "cell_type": "markdown",
   "id": "4d0f1a2a-7ccd-4abf-9e37-afe5490f555e",
   "metadata": {},
   "source": [
    "Tal como podemos ver no existen valores nulos dentro del codigo ni variables que presenten extremos "
   ]
  },
  {
   "cell_type": "markdown",
   "id": "338cca7c-b5c2-4d90-9420-0864e9d9182c",
   "metadata": {},
   "source": [
    "2.4 Análisis de Correlación Lineal entre Variables\n",
    "\n",
    "Verificamos si existen variables altamente correlacionadas linealmente."
   ]
  },
  {
   "cell_type": "code",
   "execution_count": null,
   "id": "fcb7099f-5151-4e19-a1b9-e782a1ee9fc5",
   "metadata": {},
   "outputs": [],
   "source": [
    "import seaborn as sns\n",
    "import matplotlib.pyplot as plt\n",
    "\n",
    "# Calcular la matriz de correlación usando el método de Pearson\n",
    "correlation_matrix = df_encoded.corr(method='pearson')\n",
    "\n",
    "# Visualización de la matriz de correlación\n",
    "plt.figure(figsize=(16, 12))\n",
    "sns.heatmap(correlation_matrix, annot=True, cmap='coolwarm', vmin=-1, vmax=1)\n",
    "plt.title('Matriz de Correlación')\n",
    "plt.show()\n"
   ]
  },
  {
   "cell_type": "markdown",
   "id": "2fe3c270-f851-47f7-afa0-f373fb860344",
   "metadata": {},
   "source": [
    "2.5 Preguntas para el Encargado de Proveer los Datos\n",
    "\n",
    "1) Definición del Engagement Level: ¿Cómo se define y calcula el nivel de engagement? ¿Es una clasificación hecha manualmente o se basa en algún algoritmo?\n",
    "\n",
    "2) Origen de los Datos: ¿Los datos fueron recolectados de una única plataforma de juegos o provienen de múltiples fuentes?\n",
    "\n",
    "3) Frecuencia de Actualización: ¿Cada cuánto tiempo se actualiza este dataset? ¿Los datos reflejan el comportamiento actual de los jugadores?\n",
    "\n",
    "4) Propósito del Dataset: ¿Cuál es el objetivo principal al analizar este dataset? ¿Se espera construir un modelo predictivo, realizar análisis descriptivo, o algo más?"
   ]
  },
  {
   "cell_type": "markdown",
   "id": "0a18fe5b-739c-4243-9a92-a8f0298e99f0",
   "metadata": {
    "jp-MarkdownHeadingCollapsed": true
   },
   "source": [
    "## Hipótesis Formulada:"
   ]
  },
  {
   "cell_type": "markdown",
   "id": "ffdb9f6a-a893-45ad-a1a9-35b04a596c2e",
   "metadata": {},
   "source": [
    "### Hipótesis: \"Los jugadores que pasan más tiempo en partidas tienen un mayor nivel de engagement.\"\n",
    "\n",
    "La idea es que cuanto más tiempo invierte un jugador en las partidas, más comprometido (engaged) estará con el juego. Por lo tanto, esperaríamos que los jugadores con tiempos de juego altos tiendan a tener un nivel de engagement más alto (High).\n",
    "\n",
    "1) Análisis para Validar la Hipótesis:\n",
    "Primero, debemos analizar la relación entre el tiempo que pasan los jugadores en las partidas y su nivel de engagement."
   ]
  },
  {
   "cell_type": "code",
   "execution_count": null,
   "id": "1287df78-ae8d-44ab-ac01-456353ba4747",
   "metadata": {},
   "outputs": [],
   "source": [
    "# Revisión de las primeras filas del DataFrame\n",
    "df.head()"
   ]
  },
  {
   "cell_type": "markdown",
   "id": "f84972d7-0a07-43ea-a032-118fdd2c3975",
   "metadata": {},
   "source": [
    "2) Análisis exploratorio de las variables de interés:\n",
    "\n",
    "* EngagementLevel: Variable objetivo con valores categóricos (Low, Medium, High).\n",
    "* AvgSessionDurationMinutes: Variable relacionada con el tiempo total que un jugador pasa en el juego por sesion."
   ]
  },
  {
   "cell_type": "code",
   "execution_count": null,
   "id": "b667714e-7cda-4a8c-b6b3-9bc672a1a42d",
   "metadata": {},
   "outputs": [],
   "source": [
    "# Distribución de la variable 'EngagementLevel'\n",
    "df['EngagementLevel'].value_counts()\n",
    "\n",
    "# Descripción estadística de 'TotalTimeSpent'\n",
    "df['AvgSessionDurationMinutes'].describe()\n",
    "\n",
    "# Análisis de la relación entre 'TotalTimeSpent' y 'EngagementLevel'\n",
    "import seaborn as sns\n",
    "import matplotlib.pyplot as plt\n",
    "\n",
    "plt.figure(figsize=(10, 6))\n",
    "sns.boxplot(x='EngagementLevel', y='AvgSessionDurationMinutes', data=df)\n",
    "plt.title('Relación entre EngagementLevel y AvgSessionDurationMinutes')\n",
    "plt.show()\n"
   ]
  },
  {
   "cell_type": "markdown",
   "id": "da5ed48b-3d01-4866-bb8f-e2d49fe656ae",
   "metadata": {},
   "source": [
    "### Conclusión sobre la Hipótesis\n",
    "La hipótesis de que \"los jugadores que pasan más tiempo en partidas tienen un mayor nivel de engagement\" parece estar parcialmente validada:\n",
    "\n",
    "Validación Parcial: Los jugadores con un nivel de engagement alto (High) tienden a tener sesiones más largas en promedio comparado con aquellos con engagement medio o bajo.\n",
    "\n",
    "Consideraciones: Sin embargo, la relación no es completamente lineal, ya que algunos jugadores con engagement alto tienen tiempos de sesión comparables a los de engagement bajo. Esto podría indicar que otros factores además del tiempo de juego están influyendo en el nivel de engagement.\n",
    "\n",
    "Este análisis sugiere que el tiempo de sesión promedio es un factor importante pero no el único determinante del nivel de engagement de un jugador. Se podría profundizar en otros factores adicionales que podrían estar influyendo en el engagement."
   ]
  },
  {
   "cell_type": "markdown",
   "id": "026895ac-2364-412d-bb44-48faf4b23152",
   "metadata": {
    "jp-MarkdownHeadingCollapsed": true
   },
   "source": [
    "## Hallazgos\n",
    "Podemos ver otras relaciones donde la variable de salida EngagementLevel tiene alta relacion con las Sesiones por semana que influye bastante, tambien las variables de Nivel de jugador y Logros desbloqueados.\n"
   ]
  },
  {
   "cell_type": "markdown",
   "id": "c6656844-6a84-40dd-ab26-a38aa8528db7",
   "metadata": {},
   "source": [
    "Respecto a las Sesiones por semana podemos ver que afecta a la distribucion de que mayor cantidad de Sesiones por semana, mayor va a ser el EngagementLevel.\n"
   ]
  },
  {
   "cell_type": "code",
   "execution_count": null,
   "id": "c83baf01-64bb-40ad-92df-d5aca23b3cc9",
   "metadata": {},
   "outputs": [],
   "source": [
    "plt.figure(figsize=(8, 6))\n",
    "sns.boxplot(x='EngagementLevel', y='SessionsPerWeek', data=df)\n",
    "plt.title('Relación entre Sesiones por Semana y EngagementLevel')\n",
    "plt.xlabel('Engagement Level')\n",
    "plt.ylabel('Sesiones por Semana')\n",
    "plt.show()"
   ]
  },
  {
   "cell_type": "markdown",
   "id": "b1222c41-b247-4004-8ab3-b8647906a276",
   "metadata": {},
   "source": [
    "En cuanto el Nivel de jugador y Logros desbloqueados, tambien ayudan a la clasificacion del EngagementLevel del usuario.\n",
    "\n",
    "### Nivel del jugador"
   ]
  },
  {
   "cell_type": "code",
   "execution_count": null,
   "id": "49e91aad-7335-4e76-bab3-c3989cab7031",
   "metadata": {},
   "outputs": [],
   "source": [
    "plt.figure(figsize=(8, 6))\n",
    "sns.boxplot(x='EngagementLevel', y='PlayerLevel', data=df)\n",
    "plt.title('Relación entre Nivel del Jugador y EngagementLevel')\n",
    "plt.xlabel('Engagement Level')\n",
    "plt.ylabel('Nivel del Jugador')\n",
    "plt.show()"
   ]
  },
  {
   "cell_type": "markdown",
   "id": "77df682f-dbc9-4422-864e-d6b7ad86a28b",
   "metadata": {},
   "source": [
    "### Logros Desbloqueados"
   ]
  },
  {
   "cell_type": "code",
   "execution_count": null,
   "id": "4c16a37f-dd8c-4987-9158-51f168173667",
   "metadata": {},
   "outputs": [],
   "source": [
    "plt.figure(figsize=(8, 6))\n",
    "sns.boxplot(x='EngagementLevel', y='AchievementsUnlocked', data=df)\n",
    "plt.title('Relación entre Logros Desbloqueados y EngagementLevel')\n",
    "plt.xlabel('Engagement Level')\n",
    "plt.ylabel('Logros Desbloqueados')\n",
    "plt.show()"
   ]
  },
  {
   "cell_type": "markdown",
   "id": "86fb3e91-1b73-4eab-b0d6-66fd7c159a6b",
   "metadata": {
    "jp-MarkdownHeadingCollapsed": true
   },
   "source": [
    "## Variables que se podrian crear a partir de los datos existentes"
   ]
  },
  {
   "cell_type": "markdown",
   "id": "caf6bbc2-4122-41a3-9804-e56b5c39fd00",
   "metadata": {
    "jp-MarkdownHeadingCollapsed": true
   },
   "source": [
    "Feature engineering, puede ser muy beneficiosa en problemas de modelado predictivo. Esto es útil cuando queremos capturar relaciones o patrones que no son directamente evidentes en las variables originales.\n",
    "\n",
    "#### Posibles Nuevas Variables para Crear:\n",
    "1) Relación entre PlayTimeHours y AvgSessionDurationMinutes:\n",
    "\n",
    "Descripción: Crear una variable que mida cuántas horas juega en promedio el usuario por sesión.\n",
    "\n",
    "Cómo calcularlo: AvgPlayTimePerSession = PlayTimeHours / (AvgSessionDurationMinutes / 60)\n",
    "\n",
    "Beneficio: Esto capturaría si los jugadores que juegan por periodos más cortos, pero más frecuentemente, tienen un nivel de engagement diferente.\n",
    "\n",
    "2) Nivel de Logro Relativo:\n",
    "\n",
    "Descripción: Crear una variable que relacione el número de logros desbloqueados con el nivel del jugador.\n",
    "\n",
    "Cómo calcularlo: AchievementRatio = AchievementsUnlocked / PlayerLevel\n",
    "\n",
    "Beneficio: Esto podría revelar si los jugadores que desbloquean logros más rápido tienen un nivel de engagement mayor.\n",
    "\n",
    "3) Edad Ajustada por Nivel de Juego:\n",
    "\n",
    "Descripción: Crear una variable que compare la edad del jugador con su nivel de juego.\n",
    "\n",
    "Cómo calcularlo: AgeAdjustedLevel = Age / PlayerLevel\n",
    "\n",
    "Beneficio: Esto podría indicar si los jugadores más jóvenes o mayores tienen una progresión diferente en el juego y si eso afecta su engagement."
   ]
  },
  {
   "cell_type": "markdown",
   "id": "472917ff-d59a-4ef3-b8e3-300e206b4b3b",
   "metadata": {
    "jp-MarkdownHeadingCollapsed": true
   },
   "source": [
    "## Modelado"
   ]
  },
  {
   "cell_type": "markdown",
   "id": "4758452c-c4f8-48e6-a542-c754b41a8d0f",
   "metadata": {},
   "source": [
    "#### Transformers y Pipeline"
   ]
  },
  {
   "cell_type": "markdown",
   "id": "385aa64e-b416-40a3-8c84-343f50141bea",
   "metadata": {},
   "source": [
    "Transformamos las variables aplicando transformadores y modelos usando un PipeLine"
   ]
  },
  {
   "cell_type": "code",
   "execution_count": null,
   "id": "28387a11-4c6a-4a2b-a2f1-2d4228795533",
   "metadata": {},
   "outputs": [],
   "source": [
    "from sklearn.compose import ColumnTransformer\n",
    "from sklearn.pipeline import Pipeline\n",
    "from sklearn.preprocessing import OneHotEncoder, LabelEncoder, FunctionTransformer, StandardScaler\n",
    "from sklearn.linear_model import LogisticRegression\n",
    "from sklearn.model_selection import train_test_split\n",
    "from sklearn.metrics import accuracy_score"
   ]
  },
  {
   "cell_type": "code",
   "execution_count": null,
   "id": "1a8f8f78-43ce-4da0-9c90-bce24acb76b3",
   "metadata": {},
   "outputs": [],
   "source": [
    "# Separar variables de entrada y salida\n",
    "X = df.drop(columns=['EngagementLevel'])\n",
    "y = df['EngagementLevel']"
   ]
  },
  {
   "cell_type": "code",
   "execution_count": null,
   "id": "7a151ae4-dd1c-4be5-906f-90a1b22442d2",
   "metadata": {},
   "outputs": [],
   "source": [
    "# Identificar las columnas categóricas, booleanas y numéricas\n",
    "categorical_columns = X.select_dtypes(include=['object']).columns\n",
    "numeric_columns = X.select_dtypes(include=['int64', 'float64']).columns\n",
    "\n",
    "print(categorical_columns)\n",
    "print(numeric_columns)"
   ]
  },
  {
   "cell_type": "code",
   "execution_count": null,
   "id": "c50b5f6c-0054-4bf3-aaee-7c53adddc85f",
   "metadata": {},
   "outputs": [],
   "source": [
    "from sklearn_pandas import DataFrameMapper\n",
    "\n",
    "mapper = DataFrameMapper([\n",
    "    (['Age'],[StandardScaler()]),\n",
    "    (['PlayTimeHours'],[StandardScaler()]),\n",
    "    (['InGamePurchases'],[StandardScaler()]),\n",
    "    (['SessionsPerWeek'],[StandardScaler()]),\n",
    "    (['AvgSessionDurationMinutes'],[StandardScaler()]),\n",
    "    (['PlayerLevel'],[StandardScaler()]),\n",
    "    (['AchievementsUnlocked'],[StandardScaler()]),\n",
    "    (['Gender'],[OneHotEncoder(drop='first')]),\n",
    "    (['Location'],[OneHotEncoder(drop='first')]),\n",
    "    (['GameGenre'],[OneHotEncoder(drop='first')]),\n",
    "    (['GameDifficulty'],[OneHotEncoder(drop='first')])\n",
    "]\n",
    ",df_out=True)"
   ]
  },
  {
   "cell_type": "code",
   "execution_count": null,
   "id": "baf4c4da-bfcd-408d-967d-b618be57dbca",
   "metadata": {},
   "outputs": [],
   "source": [
    "# Ajustar y transformar los datos\n",
    "mapper.fit(X)\n",
    "transformed_df = mapper.transform(X)\n",
    "print(transformed_df.head())"
   ]
  },
  {
   "cell_type": "code",
   "execution_count": null,
   "id": "352b643f-8b08-41a5-95c5-6c9c26a205c3",
   "metadata": {},
   "outputs": [],
   "source": [
    "# Dividir el dataset en train, validation y test (60% train, 20% val, 20% test)\n",
    "X_train, X_temp, y_train, y_temp = train_test_split(X, y, test_size=0.4, random_state=42)\n",
    "X_val, X_test, y_val, y_test = train_test_split(X_temp, y_temp, test_size=0.5, random_state=42)"
   ]
  },
  {
   "cell_type": "markdown",
   "id": "c4a5702f-7959-44be-beed-12b2c30cb00c",
   "metadata": {},
   "source": [
    "#### Regresion Logistica"
   ]
  },
  {
   "cell_type": "code",
   "execution_count": null,
   "id": "b6cd0b60-6e9c-478e-9f10-e8985c2c8e8f",
   "metadata": {},
   "outputs": [],
   "source": [
    "# Crear el Pipeline\n",
    "pipeline_rl = Pipeline(steps=[\n",
    "    ('mapper', mapper),\n",
    "    ('classifier', LogisticRegression())\n",
    "])"
   ]
  },
  {
   "cell_type": "code",
   "execution_count": null,
   "id": "39dc6a26-9be3-4c67-8971-a5b63f5f55fe",
   "metadata": {},
   "outputs": [],
   "source": [
    "# Entrenar el modelo\n",
    "pipeline_rl.fit(X_train, y_train)"
   ]
  },
  {
   "cell_type": "markdown",
   "id": "adc55e69-78ed-4bea-a155-66973b46843f",
   "metadata": {},
   "source": [
    "### KNN"
   ]
  },
  {
   "cell_type": "code",
   "execution_count": null,
   "id": "928fe47c-bf00-40fd-b167-6d880fc8f17a",
   "metadata": {},
   "outputs": [],
   "source": [
    "from sklearn.model_selection import GridSearchCV\n",
    "from sklearn.neighbors import KNeighborsClassifier"
   ]
  },
  {
   "cell_type": "code",
   "execution_count": null,
   "id": "612615f7-395a-489c-ba50-7673a29104b9",
   "metadata": {},
   "outputs": [],
   "source": [
    "knn_clf = KNeighborsClassifier(n_neighbors=1)\n",
    "parameters = {'n_neighbors': [1, 3, 5, 10, 15, 20, 50, 100]}\n",
    "\n",
    "clf = GridSearchCV(knn_clf, parameters, refit=True, verbose=1)\n",
    "\n",
    "pipeline_knn = Pipeline([\n",
    "    ('mapper', mapper),\n",
    "    ('classifier', clf)\n",
    "])\n",
    "\n",
    "pipeline_knn.fit(X_train, y_train)\n",
    "\n",
    "clf.best_score_, clf.best_params_"
   ]
  },
  {
   "cell_type": "markdown",
   "id": "f7326852-d60d-4ec6-8585-f404662d87b8",
   "metadata": {},
   "source": [
    "### Random Forest"
   ]
  },
  {
   "cell_type": "code",
   "execution_count": null,
   "id": "6f2357e8-62ae-4a46-b2c5-6d75e5fbb314",
   "metadata": {},
   "outputs": [],
   "source": [
    "import graphviz  # pip install graphviz\n",
    "from sklearn.tree import export_graphviz\n",
    "\n",
    "def graph_tree(tree, col_names):\n",
    "    graph_data = export_graphviz(\n",
    "        tree,\n",
    "        out_file=None,\n",
    "        feature_names=col_names,\n",
    "        class_names=['low', 'medium', 'high'],\n",
    "        filled=True,\n",
    "        rounded=True,\n",
    "        special_characters=True,\n",
    "    )\n",
    "    graph = graphviz.Source(graph_data)\n",
    "    return graph"
   ]
  },
  {
   "cell_type": "code",
   "execution_count": null,
   "id": "aeff58c5-e38b-4429-8eb1-45dcf7e3738a",
   "metadata": {},
   "outputs": [],
   "source": [
    "from sklearn.ensemble import RandomForestClassifier\n",
    "\n",
    "# Crear el clasificador de Random Forest\n",
    "rf_clf = RandomForestClassifier(n_estimators=100, max_depth=10, max_features=8, random_state=42)\n",
    "\n",
    "# Crear el Pipeline\n",
    "pipeline_rf = Pipeline([\n",
    "    ('mapper', mapper),\n",
    "    ('classifier', rf_clf)\n",
    "])\n",
    "\n",
    "# Entrenar el pipeline\n",
    "pipeline_rf.fit(X_train, y_train)"
   ]
  },
  {
   "cell_type": "code",
   "execution_count": null,
   "id": "c9af48f9-9138-4c1e-a691-356a6da2d7da",
   "metadata": {},
   "outputs": [],
   "source": [
    "graph_tree(rf_clf.estimators_[0], col_names=mapper.transformed_names_)"
   ]
  },
  {
   "cell_type": "markdown",
   "id": "371b7083-111f-4dd1-bd3e-331e951e409b",
   "metadata": {},
   "source": [
    "#### Random Forest con GridSearch"
   ]
  },
  {
   "cell_type": "code",
   "execution_count": null,
   "id": "a5687b32-386d-4f5b-ba43-fab9a9e4219a",
   "metadata": {},
   "outputs": [],
   "source": [
    "# Definir el modelo Random Forest\n",
    "rf_clf_gs = RandomForestClassifier(random_state=42)\n",
    "\n",
    "# Definir los hiperparámetros que queremos probar\n",
    "param_grid = {\n",
    "    'n_estimators': [100, 200, 500],          # Probar diferentes números de árboles\n",
    "    'max_depth': [10, 20, 30, None],          # Profundidad de los árboles\n",
    "    'min_samples_split': [2, 5, 10],          # Muestras mínimas para dividir un nodo\n",
    "    'min_samples_leaf': [1, 2, 4],            # Muestras mínimas por hoja\n",
    "    'bootstrap': [True, False]                # Uso de bootstrap en el muestreo\n",
    "}\n",
    "\n",
    "# Configurar el GridSearch\n",
    "grid_search_cv = GridSearchCV(\n",
    "    estimator=rf_clf_gs, \n",
    "    param_grid=param_grid, \n",
    "    \n",
    "    cv=5,                    # Validación cruzada \n",
    "    scoring='accuracy',       # Métrica de evaluación \n",
    "    n_jobs=-1,                # Usar todos los núcleos disponibles\n",
    "    verbose=2                 # Nivel de detalle de la salida en la consola\n",
    ")\n",
    "\n",
    "pipeline_rf_cv = Pipeline([\n",
    "    ('mapper', mapper),\n",
    "    ('classifier', grid_search_cv)\n",
    "])\n",
    "\n",
    "pipeline_rf_cv.fit(X_train, y_train)"
   ]
  },
  {
   "cell_type": "markdown",
   "id": "13e88f77-2d73-49f3-9e24-74931a0d4067",
   "metadata": {
    "jp-MarkdownHeadingCollapsed": true
   },
   "source": [
    "## Evaluacion de modelos"
   ]
  },
  {
   "cell_type": "markdown",
   "id": "9fbfb715-d786-461a-8b71-394fe3e94c10",
   "metadata": {},
   "source": [
    "#### Justificación de la elección de Accuracy como métrica de evaluación"
   ]
  },
  {
   "cell_type": "markdown",
   "id": "588523b4-b04f-4196-a497-b7ed74c4f270",
   "metadata": {},
   "source": [
    "En el presente trabajo, el objetivo es desarrollar un modelo de clasificación que permita categorizar a los jugadores en tres niveles de engagement (Bajo, Medio y Alto) para optimizar su experiencia en el juego mediante la oferta de información y promociones personalizadas. Para evaluar el rendimiento de dicho modelo, se ha optado por utilizar accuracy como la métrica principal. \n",
    "\n",
    "En el contexto de clasificación multiclase, como es el caso de este problema con tres niveles de engagement, la accuracy se calcula como el número total de predicciones correctas dividido por el número total de instancias evaluadas.\n",
    "\n",
    "El dataset en cuestión clasifica a los jugadores en tres categorías de engagement: Bajo, Medio y Alto. Tras un análisis preliminar, se determinó que la distribución de las clases es relativamente balanceada, es decir, las tres categorías tienen proporciones similares de instancias. En este tipo de escenario, la métrica accuracy resulta apropiada, ya que proporciona una evaluación directa de la proporción de predicciones correctas realizadas por el modelo, reflejando su capacidad para clasificar a los jugadores correctamente en cualquiera de las tres clases.\n",
    "\n",
    "Si bien existen métricas alternativas como el F1-Score, Precision o Recall, estas son más útiles en problemas donde las clases están desbalanceadas o cuando hay una clase específica que es crítica para el problema, lo cual no es el caso en este trabajo. En este contexto, todas las clases son igualmente relevantes para la toma de decisiones en cuanto a las ofertas y experiencias personalizadas que se proporcionarán a los jugadores.\n",
    "\n",
    "Finalmente, el uso de accuracy permite una comparabilidad adecuada con otros modelos de clasificación que podrían ser evaluados en este contexto. Al ser una métrica estándar, facilita la comparación entre diferentes algoritmos de machine learning (como árboles de decisión, random forests, redes neuronales, entre otros), permitiendo seleccionar el modelo más adecuado en función de su rendimiento global.\n",
    "\n"
   ]
  },
  {
   "cell_type": "code",
   "execution_count": null,
   "id": "ff232b0b-8b4e-473a-95d0-9a7dc07699b4",
   "metadata": {},
   "outputs": [],
   "source": [
    "from sklearn import metrics\n",
    "\n",
    "def evaluate_model(model, X_train, y_train, X_val, y_val, title='', show_cm=False, average='weighted'):\n",
    "    \"\"\"\n",
    "    Evalúa un modelo en conjuntos de entrenamiento y validación para problemas multiclase.\n",
    "\n",
    "    Parameters:\n",
    "    - model: El modelo a evaluar.\n",
    "    - X_train, y_train: Conjunto de entrenamiento.\n",
    "    - X_val, y_val: Conjunto de validación.\n",
    "    - title: Título opcional para mostrar en la salida.\n",
    "    - show_cm: Booleano para decidir si mostrar la matriz de confusión.\n",
    "    - average: Tipo de promedio para las métricas ('micro', 'macro', 'weighted', None).\n",
    "\n",
    "    Returns:\n",
    "    - DataFrame con métricas de rendimiento (Accuracy, Precision, Recall, F1).\n",
    "    \"\"\"\n",
    "    if title:\n",
    "        display(title)\n",
    "\n",
    "    final_metrics = {\n",
    "        'Accuracy': [],\n",
    "        'Precision': [],\n",
    "        'Recall': [],\n",
    "        'F1': [],\n",
    "    }\n",
    "\n",
    "    # Diccionario para iterar sobre los conjuntos\n",
    "    datasets = {\n",
    "        'train': (X_train, y_train),\n",
    "        'validation': (X_val, y_val),\n",
    "    }\n",
    "\n",
    "    for set_name, (X, y) in datasets.items():\n",
    "        y_pred = model.predict(X)\n",
    "        final_metrics['Accuracy'].append(metrics.accuracy_score(y, y_pred))\n",
    "        final_metrics['Precision'].append(metrics.precision_score(y, y_pred, average=average))\n",
    "        final_metrics['Recall'].append(metrics.recall_score(y, y_pred, average=average))\n",
    "        final_metrics['F1'].append(metrics.f1_score(y, y_pred, average=average))\n",
    "\n",
    "        if show_cm:\n",
    "            cm = metrics.confusion_matrix(y, y_pred)\n",
    "            cm_plot = metrics.ConfusionMatrixDisplay(confusion_matrix=cm,\n",
    "                                                     display_labels=model.classes_)\n",
    "            cm_plot.plot(cmap=\"Blues\")\n",
    "            cm_plot.ax_.set_title(f'Confusion Matrix - {set_name}')\n",
    "\n",
    "    # Mostrar las métricas en un DataFrame\n",
    "    metrics_df = pd.DataFrame(final_metrics, index=['train', 'validation'])\n",
    "    display(metrics_df)"
   ]
  },
  {
   "cell_type": "markdown",
   "id": "5cc5340f-36d0-4539-be15-9b3d0744fb78",
   "metadata": {},
   "source": [
    "#### Evaluacion Regresion Logistica"
   ]
  },
  {
   "cell_type": "code",
   "execution_count": null,
   "id": "812d51b9-5c5d-43d4-b14c-f379734163c9",
   "metadata": {},
   "outputs": [],
   "source": [
    "evaluate_model(pipeline_rl, X_train, y_train, X_val, y_val, title='Evaluation Results', show_cm=True)"
   ]
  },
  {
   "cell_type": "markdown",
   "id": "9e2ede17-6d84-4e63-a7a4-84d739ea7f1d",
   "metadata": {},
   "source": [
    "### Evaluacion KNN"
   ]
  },
  {
   "cell_type": "code",
   "execution_count": null,
   "id": "0c4891d2-1ae5-4f99-945f-482077aa1d52",
   "metadata": {},
   "outputs": [],
   "source": [
    "evaluate_model(pipeline_knn, X_train, y_train, X_val, y_val, title='Evaluation Results', show_cm=True)"
   ]
  },
  {
   "cell_type": "markdown",
   "id": "2b924dcc-a8ef-4944-87e8-8ecaa743c725",
   "metadata": {},
   "source": [
    "### Evaluacion Random Forest"
   ]
  },
  {
   "cell_type": "code",
   "execution_count": null,
   "id": "6b9ab70d-ece5-446e-aad2-a06f93b5d077",
   "metadata": {},
   "outputs": [],
   "source": [
    "evaluate_model(pipeline_rf, X_train, y_train, X_val, y_val, title='Evaluation Results', show_cm=True)"
   ]
  },
  {
   "cell_type": "code",
   "execution_count": null,
   "id": "65674083-23cc-4401-9e50-0032bc52c5e0",
   "metadata": {},
   "outputs": [],
   "source": [
    "evaluate_model(pipeline_rf_cv, X_train, y_train, X_val, y_val, title='Evaluation Results', show_cm=True)"
   ]
  },
  {
   "cell_type": "markdown",
   "id": "13718cff-46e5-4535-b563-f965e17a8cda",
   "metadata": {},
   "source": [
    "#### Conclusiones Parciales"
   ]
  },
  {
   "cell_type": "markdown",
   "id": "2c0eaaae-eb53-4f75-9272-e590504e00fc",
   "metadata": {},
   "source": [
    "Teniendo en cuenta que nuestra metrica de evaluacion fue Accuracy, vemos hasta el momento que el modelo Random Forest que planteamos con parametros propios(n_estimators=100, max_depth=10, max_features=8, random_state=42) es el que mejor Accuracy devuelve para el set de datos con un resultado del 0.913% en validation. Ademas, en todas las otras metricas muestra mejores resultados que sus oponentes."
   ]
  },
  {
   "cell_type": "markdown",
   "id": "55ee9c66-35e1-419b-8bbd-b0ff370f0094",
   "metadata": {
    "jp-MarkdownHeadingCollapsed": true
   },
   "source": [
    "## Aplicamos Feature Engineering"
   ]
  },
  {
   "cell_type": "markdown",
   "id": "f5e829db-b852-4204-becb-cf60625e2a14",
   "metadata": {},
   "source": [
    "Primero intentamos creando una nueva feature llama \"TotalWeeklyPlaytime\" que funciona como una combinacion de \"SessionsPerWeek\" y \"AvgSessionDurationMinutes\""
   ]
  },
  {
   "cell_type": "code",
   "execution_count": null,
   "id": "85fc730e-c6b3-4f4e-aff4-f28384376471",
   "metadata": {},
   "outputs": [],
   "source": [
    "import pandas as pd\n",
    "import seaborn as sns\n",
    "import matplotlib.pyplot as plt\n",
    "\n",
    "# Cargar el dataset\n",
    "df = pd.read_csv('online_gaming_behavior_dataset.csv')\n",
    "\n",
    "# Visualizar las primeras filas del dataframe\n",
    "df.head()\n",
    "\n",
    "df.drop('PlayerID', axis=1, inplace=True)"
   ]
  },
  {
   "cell_type": "code",
   "execution_count": null,
   "id": "3aa74e7a-287c-40b1-bdf5-c7165fad207f",
   "metadata": {},
   "outputs": [],
   "source": [
    "df['TotalWeeklyPlaytime'] = df['SessionsPerWeek'] * df['AvgSessionDurationMinutes']"
   ]
  },
  {
   "cell_type": "markdown",
   "id": "d5bea1a8-46d6-4795-bd03-7ebebe104921",
   "metadata": {},
   "source": [
    "Luego dividimos \"AgeGroup\" y \"ExperienceLevel\" en grupos en base a la data"
   ]
  },
  {
   "cell_type": "code",
   "execution_count": null,
   "id": "1a4635bf-744b-4227-9552-99d1a1133bfb",
   "metadata": {},
   "outputs": [],
   "source": [
    "# Binning Age and PlayerLevel\n",
    "df['AgeGroup'] = pd.cut(df['Age'], bins=[0, 18, 25, 35, 50, 100], labels=['Teen', '20s', '30s', '40s', '50+'])\n",
    "df.drop('Age', axis=1, inplace=True)\n",
    "\n",
    "df['ExperienceLevel'] = pd.cut(df['PlayerLevel'], bins=[0, 20, 50, 100], labels=['Beginner', 'Intermediate', 'Expert'])\n",
    "df.drop('PlayerLevel', axis=1, inplace=True)"
   ]
  },
  {
   "cell_type": "code",
   "execution_count": null,
   "id": "b40d59fa-d7b9-4040-9fee-7dc44e3ebec1",
   "metadata": {},
   "outputs": [],
   "source": [
    "df.head()"
   ]
  },
  {
   "cell_type": "markdown",
   "id": "c8f0c4f2-2f64-4dfb-ba9c-4136009f6806",
   "metadata": {},
   "source": [
    "Dividimos el nuevo set de datos"
   ]
  },
  {
   "cell_type": "code",
   "execution_count": null,
   "id": "7f59a2d2-0922-40dc-a122-8a9afd3d515d",
   "metadata": {},
   "outputs": [],
   "source": [
    "from sklearn.model_selection import train_test_split, GridSearchCV\n",
    "from sklearn.preprocessing import StandardScaler, OneHotEncoder\n",
    "from sklearn.compose import ColumnTransformer\n",
    "from sklearn.pipeline import Pipeline\n",
    "from sklearn.linear_model import LogisticRegression\n",
    "from sklearn.impute import SimpleImputer\n",
    "from sklearn.metrics import classification_report\n",
    "\n",
    "X_fe = df.drop(columns=['EngagementLevel'])  # Assuming EngagementLevel is the target\n",
    "y_fe = df['EngagementLevel']\n",
    "\n",
    "# Dividir el dataset en train, validation y test (60% train, 20% val, 20% test)\n",
    "X_train_fe, X_temp_fe, y_train_fe, y_temp_fe = train_test_split(X_fe, y_fe, test_size=0.4, random_state=42)\n",
    "X_val_fe, X_test_fe, y_val_fe, y_test_fe = train_test_split(X_temp_fe, y_temp_fe, test_size=0.5, random_state=42)"
   ]
  },
  {
   "cell_type": "markdown",
   "id": "9c8ead62-2061-4137-8311-a23d9ae8282b",
   "metadata": {},
   "source": [
    "Separamos los datos en categoricos y numericos"
   ]
  },
  {
   "cell_type": "code",
   "execution_count": null,
   "id": "4f510355-0625-4975-b871-b9c44f50d31d",
   "metadata": {},
   "outputs": [],
   "source": [
    "categorical_cols = ['Gender', 'Location', 'GameGenre', 'GameDifficulty', 'AgeGroup', 'ExperienceLevel']\n",
    "numerical_cols = ['PlayTimeHours', 'SessionsPerWeek', 'AvgSessionDurationMinutes', 'TotalWeeklyPlaytime']"
   ]
  },
  {
   "cell_type": "code",
   "execution_count": null,
   "id": "d6b6927c-edef-4770-8551-cc4e17e7af3f",
   "metadata": {},
   "outputs": [],
   "source": [
    "preprocessor = ColumnTransformer(\n",
    "    transformers=[\n",
    "        ('num', StandardScaler(), numerical_cols),\n",
    "        ('cat', OneHotEncoder(handle_unknown='ignore'), categorical_cols)\n",
    "    ])\n"
   ]
  },
  {
   "cell_type": "markdown",
   "id": "11c8296f-1dd5-43a1-944e-7406b23b2f60",
   "metadata": {},
   "source": [
    "### Modelos con Feature Engineering"
   ]
  },
  {
   "cell_type": "markdown",
   "id": "1b569f8f-8e59-4aee-9057-1f35036f208d",
   "metadata": {},
   "source": [
    "#### Regresion Logistica con Feature Engineering"
   ]
  },
  {
   "cell_type": "code",
   "execution_count": null,
   "id": "3a7e85e7-1207-4a20-a960-20f3c8bf43a1",
   "metadata": {},
   "outputs": [],
   "source": [
    "logreg = LogisticRegression()\n",
    "\n",
    "pipeline_logistica = Pipeline(steps=[\n",
    "    ('preprocessor', preprocessor),\n",
    "    ('classifier', logreg)\n",
    "])"
   ]
  },
  {
   "cell_type": "code",
   "execution_count": null,
   "id": "d23f71ac-47da-4647-9613-ba4aa4948552",
   "metadata": {},
   "outputs": [],
   "source": [
    "pipeline_logistica.fit(X_train_fe, y_train_fe)"
   ]
  },
  {
   "cell_type": "markdown",
   "id": "bd76b888-e047-4bc9-b920-b24ac9e8bb43",
   "metadata": {},
   "source": [
    "#### KNN con Feature Engineering"
   ]
  },
  {
   "cell_type": "code",
   "execution_count": null,
   "id": "bc98b961-e7d6-4636-baa1-546ba830a14e",
   "metadata": {},
   "outputs": [],
   "source": [
    "from sklearn.model_selection import GridSearchCV\n",
    "from sklearn.neighbors import KNeighborsClassifier"
   ]
  },
  {
   "cell_type": "code",
   "execution_count": null,
   "id": "76df882d-b58a-4f72-a679-59e7fd20f9fb",
   "metadata": {},
   "outputs": [],
   "source": [
    "knn_clf = KNeighborsClassifier(n_neighbors=1)\n",
    "parameters = {'n_neighbors': [1, 3, 5, 10, 15, 20, 50, 100]}\n",
    "\n",
    "clf = GridSearchCV(knn_clf, parameters, refit=True, verbose=1)\n",
    "\n",
    "pipeline_knn_fe = Pipeline([\n",
    "    ('preprocessor', preprocessor),\n",
    "    ('classifier', clf)\n",
    "])\n",
    "\n",
    "pipeline_knn_fe.fit(X_train_fe, y_train_fe)\n",
    "\n",
    "clf.best_score_, clf.best_params_"
   ]
  },
  {
   "cell_type": "markdown",
   "id": "2d46da4c-bf76-4d70-967a-15fa1489c10a",
   "metadata": {},
   "source": [
    "#### Random Forest con Feature Engineering"
   ]
  },
  {
   "cell_type": "code",
   "execution_count": null,
   "id": "20734a62-3434-4394-9011-db0c069b917b",
   "metadata": {},
   "outputs": [],
   "source": [
    "from sklearn.ensemble import RandomForestClassifier\n",
    "\n",
    "# Crear el clasificador de Random Forest\n",
    "rf_clf = RandomForestClassifier(n_estimators=100, max_depth=10, max_features=8, random_state=42)\n",
    "\n",
    "# Crear el Pipeline\n",
    "pipeline_rf_fe = Pipeline([\n",
    "    ('preprocessor', preprocessor),\n",
    "    ('classifier', rf_clf)\n",
    "])\n",
    "\n",
    "# Entrenar el pipeline\n",
    "pipeline_rf_fe.fit(X_train_fe, y_train_fe)"
   ]
  },
  {
   "cell_type": "code",
   "execution_count": null,
   "id": "5d8a50c2-1d55-49a1-8fa2-a8c0bedd1409",
   "metadata": {},
   "outputs": [],
   "source": [
    "# Definir el modelo Random Forest\n",
    "rf_clf_gs = RandomForestClassifier(random_state=42)\n",
    "\n",
    "# Definir los hiperparámetros que queremos probar\n",
    "param_grid = {\n",
    "    'n_estimators': [100, 200, 500],          # Probar diferentes números de árboles\n",
    "    'max_depth': [10, 20, 30, None],          # Profundidad de los árboles\n",
    "    'min_samples_split': [2, 5, 10],          # Muestras mínimas para dividir un nodo\n",
    "    'min_samples_leaf': [1, 2, 4],            # Muestras mínimas por hoja\n",
    "    'bootstrap': [True, False]                # Uso de bootstrap en el muestreo\n",
    "}\n",
    "\n",
    "# Configurar el GridSearch\n",
    "grid_search_cv = GridSearchCV(\n",
    "    estimator=rf_clf_gs, \n",
    "    param_grid=param_grid, \n",
    "    \n",
    "    cv=5,                    # Validación cruzada \n",
    "    scoring='accuracy',       # Métrica de evaluación\n",
    "    n_jobs=-1,                # Usar todos los núcleos disponibles\n",
    "    verbose=2                 # Nivel de detalle de la salida en la consola\n",
    ")\n",
    "\n",
    "pipeline_rf_cv_fe = Pipeline([\n",
    "    ('preprocessor', preprocessor),\n",
    "    ('classifier', grid_search_cv)\n",
    "])\n",
    "\n",
    "pipeline_rf_cv_fe.fit(X_train_fe, y_train_fe)"
   ]
  },
  {
   "cell_type": "markdown",
   "id": "f287176d-82d8-41b8-9e87-e9e494e3df54",
   "metadata": {},
   "source": [
    "### Evaluacion de modelos con Feature Engineering"
   ]
  },
  {
   "cell_type": "markdown",
   "id": "02c8ed7d-504f-48c9-9dfb-31740b36da7b",
   "metadata": {},
   "source": [
    "#### Evaluacion Regresion Logistica"
   ]
  },
  {
   "cell_type": "code",
   "execution_count": null,
   "id": "3f886e11-fa00-4dca-9f42-8cd0c078ae86",
   "metadata": {},
   "outputs": [],
   "source": [
    "evaluate_model(pipeline_logistica, X_train_fe, y_train_fe, X_val_fe, y_val_fe, title='Evaluation Results', show_cm=True)"
   ]
  },
  {
   "cell_type": "markdown",
   "id": "27a356cf-3029-4481-b91d-471292d1d3f1",
   "metadata": {},
   "source": [
    "#### Evaluacion KNN"
   ]
  },
  {
   "cell_type": "code",
   "execution_count": null,
   "id": "5690801e-9619-4fce-bf58-8e6ed3afe9a6",
   "metadata": {},
   "outputs": [],
   "source": [
    "evaluate_model(pipeline_knn_fe, X_train_fe, y_train_fe, X_val_fe, y_val_fe, title='Evaluation Results', show_cm=True)"
   ]
  },
  {
   "cell_type": "markdown",
   "id": "ef4a97e2-0a03-4b3c-8160-c1d65fa0ff10",
   "metadata": {},
   "source": [
    "#### Evaluacion de modelo con Random Forest"
   ]
  },
  {
   "cell_type": "code",
   "execution_count": null,
   "id": "f12ec9b1-a6f9-471b-910f-563eb737e84c",
   "metadata": {},
   "outputs": [],
   "source": [
    "evaluate_model(pipeline_rf_fe, X_train_fe, y_train_fe, X_val_fe, y_val_fe, title='Evaluation Results', show_cm=True)"
   ]
  },
  {
   "cell_type": "markdown",
   "id": "d33c386d-8a45-463c-b895-2cc6d6bc9916",
   "metadata": {},
   "source": [
    "#### Evaluacion de Random Forest con GridSearchCV y Feature Engineering"
   ]
  },
  {
   "cell_type": "code",
   "execution_count": null,
   "id": "72521d2a-a4a3-4d29-8cc9-241c3918ecce",
   "metadata": {},
   "outputs": [],
   "source": [
    "evaluate_model(pipeline_rf_cv_fe, X_train_fe, y_train_fe, X_val_fe, y_val_fe, title='Evaluation Results', show_cm=True)"
   ]
  },
  {
   "cell_type": "markdown",
   "id": "a5f7198f-b24b-4a79-8737-edbb1564b9c0",
   "metadata": {},
   "source": [
    "#### Conclusiones parciales"
   ]
  },
  {
   "cell_type": "markdown",
   "id": "8fa44e51-b6fc-4f91-9877-0d755637bd5c",
   "metadata": {},
   "source": [
    "Tras evaluar el Accuracy de los modelos testeados utilizando Feature Engineering vemos una mejora notable en Regresion Logistica y KNN en comparacion a cuando no los habiamos aplicado. Sin embargo, vemos una caida en el rendimiento del conjunto de validacion para Random Forest. \n",
    "A pesar de la mejora de KNN y Regresion Logistica, seguimos alejados del 91.3% que conseguimos con Random Forest sin aplicar Feature Engineering. "
   ]
  },
  {
   "cell_type": "markdown",
   "id": "1d32f455-f661-4573-b783-f1eb515f5cd2",
   "metadata": {
    "jp-MarkdownHeadingCollapsed": true
   },
   "source": [
    "## Aplicacion de PCA"
   ]
  },
  {
   "cell_type": "code",
   "execution_count": null,
   "id": "a5187984-9399-49a0-a828-d34626d80ae3",
   "metadata": {},
   "outputs": [],
   "source": [
    "from sklearn.decomposition import PCA\n",
    "from sklearn.compose import ColumnTransformer\n",
    "from sklearn.pipeline import Pipeline\n",
    "from sklearn.preprocessing import OneHotEncoder, LabelEncoder, FunctionTransformer, StandardScaler\n",
    "from sklearn.model_selection import train_test_split\n",
    "import pandas as pd\n",
    "import seaborn as sns\n",
    "import matplotlib.pyplot as plt\n",
    "from sklearn.metrics import accuracy_score"
   ]
  },
  {
   "cell_type": "code",
   "execution_count": null,
   "id": "083aa660-dfaf-4101-8e9f-f24ac6c3b896",
   "metadata": {},
   "outputs": [],
   "source": [
    "# Cargar los datos\n",
    "df = pd.read_csv('online_gaming_behavior_dataset.csv')"
   ]
  },
  {
   "cell_type": "code",
   "execution_count": null,
   "id": "3d52265f-4012-4d96-a58c-96d6cda4792b",
   "metadata": {},
   "outputs": [],
   "source": [
    "# Separar variables de entrada y salida\n",
    "X = df.drop(columns=['EngagementLevel'])\n",
    "y = df['EngagementLevel']"
   ]
  },
  {
   "cell_type": "code",
   "execution_count": null,
   "id": "3b8b2be2-6010-4e0e-9e2a-b834b95be50c",
   "metadata": {},
   "outputs": [],
   "source": [
    "# Identificar las columnas categóricas, booleanas y numéricas\n",
    "categorical_columns = X.select_dtypes(include=['object']).columns\n",
    "numeric_columns = X.select_dtypes(include=['int64', 'float64']).columns\n",
    "\n",
    "print(categorical_columns)\n",
    "print(numeric_columns)"
   ]
  },
  {
   "cell_type": "code",
   "execution_count": null,
   "id": "2b4115f7-46ad-4a14-9b18-b770f0738021",
   "metadata": {},
   "outputs": [],
   "source": [
    "from sklearn_pandas import DataFrameMapper\n",
    "\n",
    "mapper = DataFrameMapper([\n",
    "    (['Age'],[StandardScaler()]),\n",
    "    (['PlayTimeHours'],[StandardScaler()]),\n",
    "    (['InGamePurchases'],[StandardScaler()]),\n",
    "    (['SessionsPerWeek'],[StandardScaler()]),\n",
    "    (['AvgSessionDurationMinutes'],[StandardScaler()]),\n",
    "    (['PlayerLevel'],[StandardScaler()]),\n",
    "    (['AchievementsUnlocked'],[StandardScaler()]),\n",
    "    (['Gender'],[OneHotEncoder(drop='first')]),\n",
    "    (['Location'],[OneHotEncoder(drop='first')]),\n",
    "    (['GameGenre'],[OneHotEncoder(drop='first')]),\n",
    "    (['GameDifficulty'],[OneHotEncoder(drop='first')])\n",
    "]\n",
    ",df_out=True)"
   ]
  },
  {
   "cell_type": "code",
   "execution_count": null,
   "id": "29f11da0-7695-41fb-8704-12cab0539b6f",
   "metadata": {},
   "outputs": [],
   "source": [
    "# Ajustar y transformar los datos\n",
    "mapper.fit(X)\n",
    "transformed_df = mapper.transform(X)\n",
    "print(transformed_df.head())"
   ]
  },
  {
   "cell_type": "code",
   "execution_count": null,
   "id": "4c301119-4094-4238-b75a-adaa19d661bf",
   "metadata": {},
   "outputs": [],
   "source": [
    "# Aplicar PCA: se pueden elegir la cantidad de componentes\n",
    "pca = PCA(n_components=5)\n",
    "X_pca = pca.fit_transform(transformed_df)"
   ]
  },
  {
   "cell_type": "code",
   "execution_count": null,
   "id": "7d57707e-9397-4d18-b3f0-7ff7bbb35929",
   "metadata": {},
   "outputs": [],
   "source": [
    "# Crear un nuevo DataFrame con las componentes principales\n",
    "pca_df = pd.DataFrame(X_pca, columns=[f'PC{i+1}' for i in range(X_pca.shape[1])])\n",
    "\n",
    "# Ver las primeras filas del DataFrame\n",
    "print(pca_df.head())"
   ]
  },
  {
   "cell_type": "markdown",
   "id": "92a423b0-14ed-4c22-aabf-424a1833babf",
   "metadata": {},
   "source": [
    "### Evaluacion de modelos usando PCA "
   ]
  },
  {
   "cell_type": "code",
   "execution_count": null,
   "id": "3d6952a9-220c-4aec-a4c9-b6b1c8ca8b9a",
   "metadata": {},
   "outputs": [],
   "source": [
    "from sklearn.model_selection import train_test_split\n",
    "\n",
    "# Dividir el dataset en train, validation y test (60% train, 20% val, 20% test)\n",
    "X_train, X_temp, y_train, y_temp = train_test_split(pca_df, y, test_size=0.4, random_state=42)\n",
    "X_val, X_test, y_val, y_test = train_test_split(X_temp, y_temp, test_size=0.5, random_state=42)"
   ]
  },
  {
   "cell_type": "code",
   "execution_count": null,
   "id": "99da1ef5-3a72-412b-a890-d991d7d45811",
   "metadata": {},
   "outputs": [],
   "source": [
    "print(X_train.head())"
   ]
  },
  {
   "cell_type": "markdown",
   "id": "68c85309-de06-4ea8-ad58-04da4f34a92d",
   "metadata": {},
   "source": [
    "#### KNN"
   ]
  },
  {
   "cell_type": "code",
   "execution_count": null,
   "id": "514453e4-8afc-46e1-9781-2472a40b9016",
   "metadata": {},
   "outputs": [],
   "source": [
    "from sklearn.model_selection import GridSearchCV\n",
    "from sklearn.neighbors import KNeighborsClassifier"
   ]
  },
  {
   "cell_type": "code",
   "execution_count": null,
   "id": "ae5750b5-c8c5-4977-87f2-673f8fcc70d2",
   "metadata": {},
   "outputs": [],
   "source": [
    "knn_clf = KNeighborsClassifier(n_neighbors=1)\n",
    "parameters = {'n_neighbors': [1, 3, 5, 10, 15, 20, 50, 100]}\n",
    "\n",
    "pca_knn = GridSearchCV(knn_clf, parameters, refit=True, verbose=1)\n",
    "\n",
    "pca_knn.fit(X_train, y_train)\n",
    "\n",
    "pca_knn.best_score_, pca_knn.best_params_"
   ]
  },
  {
   "cell_type": "markdown",
   "id": "1769e7db-dbdf-4977-b9cb-01162ddc81e2",
   "metadata": {},
   "source": [
    "#### Regresion Logistica"
   ]
  },
  {
   "cell_type": "code",
   "execution_count": null,
   "id": "a4d10d9a-b241-4491-8487-73201c0a183d",
   "metadata": {},
   "outputs": [],
   "source": [
    "from sklearn.linear_model import LogisticRegression\n",
    "\n",
    "# Entrenar el modelo\n",
    "pca_lr = LogisticRegression().fit(X_train, y_train)"
   ]
  },
  {
   "cell_type": "markdown",
   "id": "d0d34d7f-274a-4c7c-be8a-da052d96715e",
   "metadata": {},
   "source": [
    "#### Random Forest"
   ]
  },
  {
   "cell_type": "code",
   "execution_count": null,
   "id": "855c95af-2be5-4800-9bcc-8fac544b3bfa",
   "metadata": {},
   "outputs": [],
   "source": [
    "from sklearn.ensemble import RandomForestClassifier\n",
    "\n",
    "# Crear el clasificador de Random Forest\n",
    "pca_rf = RandomForestClassifier(n_estimators=100, max_depth=10, max_features=8, random_state=42)\n",
    "\n",
    "# Entrenar el pipeline\n",
    "pca_rf.fit(X_train, y_train)"
   ]
  },
  {
   "cell_type": "markdown",
   "id": "397dde8a-3983-4ca9-91f1-0149f3fc885d",
   "metadata": {},
   "source": [
    "#### Random Forest con PCA y GridSearch"
   ]
  },
  {
   "cell_type": "code",
   "execution_count": null,
   "id": "ab7a1e0d-0d3c-4ff2-9027-4bf603668716",
   "metadata": {},
   "outputs": [],
   "source": [
    "# Definir el modelo Random Forest\n",
    "pca_rf_gs = RandomForestClassifier(random_state=42)\n",
    "\n",
    "# Definir los hiperparámetros que queremos probar\n",
    "param_grid = {\n",
    "    'n_estimators': [100, 200, 500],          # Probar diferentes números de árboles\n",
    "    'max_depth': [10, 20, 30, None],          # Profundidad de los árboles\n",
    "    'min_samples_split': [2, 5, 10],          # Muestras mínimas para dividir un nodo\n",
    "    'min_samples_leaf': [1, 2, 4],            # Muestras mínimas por hoja\n",
    "    'bootstrap': [True, False]                # Uso de bootstrap en el muestreo\n",
    "}\n",
    "\n",
    "# Configurar el GridSearch\n",
    "grid_search_cv = GridSearchCV(\n",
    "    estimator=rf_clf_gs, \n",
    "    param_grid=param_grid, \n",
    "    \n",
    "    cv=5,                    # Validación cruzada\n",
    "    scoring='accuracy',       # Métrica de evaluación\n",
    "    n_jobs=-1,                # Usar todos los núcleos disponibles\n",
    "    verbose=2                 # Nivel de detalle de la salida en la consola\n",
    ")\n",
    "\n",
    "pca_rf_gs.fit(X_train, y_train)"
   ]
  },
  {
   "cell_type": "markdown",
   "id": "6ff99c31-72f3-4cd8-8156-822a176848f9",
   "metadata": {},
   "source": [
    "### Evaluacion de Modelos con PCA"
   ]
  },
  {
   "cell_type": "markdown",
   "id": "d4ef2606-72e7-48fe-8e87-64c2e60bcced",
   "metadata": {},
   "source": [
    "#### Evaluacion Regresion Logistica"
   ]
  },
  {
   "cell_type": "code",
   "execution_count": null,
   "id": "e0241808-7d14-4dcf-a0b9-3858784761b5",
   "metadata": {},
   "outputs": [],
   "source": [
    "evaluate_model(pca_lr, X_train, y_train, X_val, y_val, title='Evaluation Results', show_cm=True)"
   ]
  },
  {
   "cell_type": "markdown",
   "id": "cf62debe-71eb-41d7-9a3a-f59434b17e18",
   "metadata": {},
   "source": [
    "#### Evaluacion KNN"
   ]
  },
  {
   "cell_type": "code",
   "execution_count": null,
   "id": "d2de44c5-aa5d-49a2-8b21-f39bbb290043",
   "metadata": {},
   "outputs": [],
   "source": [
    "evaluate_model(pca_knn, X_train, y_train, X_val, y_val, title='Evaluation Results', show_cm=True)"
   ]
  },
  {
   "cell_type": "markdown",
   "id": "df060217-eb61-44fa-9212-3af39bec276b",
   "metadata": {},
   "source": [
    "#### Evaluacion Random Forest"
   ]
  },
  {
   "cell_type": "code",
   "execution_count": null,
   "id": "4651217a-35c5-4d64-a287-7721d5822871",
   "metadata": {},
   "outputs": [],
   "source": [
    "evaluate_model(pca_rf, X_train, y_train, X_val, y_val, title='Evaluation Results', show_cm=True)"
   ]
  },
  {
   "cell_type": "markdown",
   "id": "d17ac479-62ea-4d15-98d1-ed98c0e69381",
   "metadata": {},
   "source": [
    "#### Evaluacion Random Forest con PCA y GridSearch"
   ]
  },
  {
   "cell_type": "code",
   "execution_count": null,
   "id": "0a2f2fdd-f92a-4cc8-a78a-49db28d8d63f",
   "metadata": {},
   "outputs": [],
   "source": [
    "evaluate_model(pca_rf_gs, X_train, y_train, X_val, y_val, title='Evaluation Results', show_cm=True)"
   ]
  },
  {
   "cell_type": "markdown",
   "id": "7cdac573-1534-4515-a688-c88ff5886532",
   "metadata": {},
   "source": [
    "#### Conclusiones Parciales"
   ]
  },
  {
   "cell_type": "markdown",
   "id": "25e964a6-c93f-4ad7-8609-c5cb004bb929",
   "metadata": {},
   "source": [
    "Al entrenar el modelo usando PCA y reduciendo el conjunto a 5 componentes vemos que los resultados de los modelos caen notoriamente logrando, en el mejor de los casos evidenciados, un 76% de validation en Random Forest con GridSearch. Asi todo, este 76% tiene una notoria presencia de overfitting. \n",
    "Se podria intentar aumentando la dimensionalidad para buscar una mejora de resultados"
   ]
  },
  {
   "cell_type": "markdown",
   "id": "7eb309de-5b0d-444e-8770-0301825d3840",
   "metadata": {
    "jp-MarkdownHeadingCollapsed": true
   },
   "source": [
    "## Evaluacion de modelos para presentar al negocio"
   ]
  },
  {
   "cell_type": "markdown",
   "id": "a12a9213-544e-4aa4-9260-9d910dc77b14",
   "metadata": {},
   "source": [
    "Tras realizar varias pruebas con modelos desde el dataset con datos normalizados, aplicando feature engineering y reduciendo caracteristicas con PCA llegamos a la conlclusion de que hay dos modelos candidatos para testear en el conjunto de Test que pueden ser la solucion ideal:\n",
    "    1) Random Forest: El primer modelo de Random Forest que testeamos (n_estimators=100, max_depth=10, max_features=8, random_state=42) logro un Accuracy del 0.913076 presentando muy bajo overfitting respecto al conjunto de train (0.929059) lo que nos lleva a inclinarnos como candidato\n",
    "    2) Regresion Logistica con Feature Engineering: La regresion logistica tras aplicarle Feature Engineering nos llego a dar un buen resultado de 0.864119 para el conjunto de validacion contra un 0.861199 de accuracy en el conjunto de train presentando un overfiting casi nulo.\n",
    "\n",
    "Procedemos ahora a evaluar su desempeño respecto al conjunto de test"
   ]
  },
  {
   "cell_type": "markdown",
   "id": "a508b99c-757d-4ae1-870a-80439f0f9ff3",
   "metadata": {},
   "source": [
    "#### Evaluacion de Random Forest en test"
   ]
  },
  {
   "cell_type": "code",
   "execution_count": null,
   "id": "bf3d00ef-af58-438c-9660-2d83110c8ad0",
   "metadata": {},
   "outputs": [],
   "source": [
    "evaluate_model(pipeline_rf, X_train, y_train, X_test, y_test, title='Evaluation Results', show_cm=True)"
   ]
  },
  {
   "cell_type": "markdown",
   "id": "17b66061-3a0c-4297-a22d-c000fe3aa09b",
   "metadata": {},
   "source": [
    "#### Evaluacion de Regresion Logistica con Feature Engineering en test"
   ]
  },
  {
   "cell_type": "code",
   "execution_count": null,
   "id": "30e088ad-573f-4fa5-ba0d-61bb52845c89",
   "metadata": {},
   "outputs": [],
   "source": [
    "evaluate_model(pipeline_logistica, X_train_fe, y_train_fe, X_test_fe, y_test_fe, title='Evaluation Results', show_cm=True)"
   ]
  },
  {
   "cell_type": "markdown",
   "id": "e474ea1f-bb7c-4bc1-b650-6b15ac890959",
   "metadata": {
    "jp-MarkdownHeadingCollapsed": true
   },
   "source": [
    "## Conclusion"
   ]
  },
  {
   "cell_type": "markdown",
   "id": "50588123-0f84-4eb9-8c12-874e01ebb07a",
   "metadata": {},
   "source": [
    "Tras evaluar los dos modelos candidatos (Random Forest y Regresión Logística con Feature Engineering), se ha decidido seleccionar Random Forest como el modelo más adecuado para resolver este problema de clasificación multiclase. La decisión se fundamenta en varios aspectos clave que incluyen no solo el rendimiento de la métrica principal (accuracy), sino también factores como interpretabilidad, tiempos de entrenamiento y capacidad de generalización. A continuación, se expone la justificación detallada.\n",
    "\n",
    "1. Rendimiento del Modelo\n",
    "Ambos modelos han mostrado un rendimiento sólido en términos de accuracy, pero el modelo de Random Forest ha logrado un valor de 0.913326 en el conjunto de test, superando al modelo de Regresión Logística, que alcanzó un accuracy de 0.864494. Este valor de accuracy más alto sugiere que el modelo de Random Forest tiene una mayor capacidad para clasificar correctamente a los jugadores en las categorías de engagement (Bajo, Medio, Alto).\n",
    "\n",
    "Además, el modelo de Random Forest presenta un overfitting muy bajo, con una diferencia mínima entre el accuracy en el conjunto de entrenamiento y el de test, lo que indica que generaliza bien a datos no vistos. Aunque la regresión logística también muestra bajo overfitting, su performance en términos absolutos es inferior.\n",
    "\n",
    "2. Capacidad de Generalización\n",
    "Una característica importante de Random Forest es su capacidad para generalizar bien en problemas complejos como este, donde hay múltiples variables y relaciones no lineales. Al ser un modelo de ensamble basado en múltiples árboles de decisión, puede capturar interacciones entre las características que no serían detectadas por un modelo más simple como la Regresión Logística. \n",
    "\n",
    "3. Tiempos de Entrenamiento\n",
    "Si bien Random Forest es un modelo más complejo y consume más recursos computacionales, en este caso, los tiempos de entrenamiento son manejables. El hecho de que se haya utilizado un número razonable de estimadores (n_estimators=100) y una profundidad máxima controlada (max_depth=10) permite que el entrenamiento no sea excesivamente costoso en términos de tiempo y recursos, logrando un equilibrio entre precisión y eficiencia.\n",
    "\n",
    "Por otro lado, la Regresión Logística ofrece tiempos de entrenamiento considerablemente más rápidos, lo que podría ser una ventaja en ciertos escenarios. Sin embargo, dado que se busca maximizar el rendimiento del modelo, en este caso particular, se ha priorizado la mayor precisión y capacidad de generalización del modelo de Random Forest, que sigue siendo eficiente a nivel computacional.\n",
    "\n",
    "4. Interpretabilidad\n",
    "En términos de interpretabilidad, la Regresión Logística es más fácil de explicar y comunicar a audiencias no técnicas debido a su naturaleza lineal. Cada coeficiente asociado a las variables del modelo tiene una interpretación directa sobre cómo afecta la probabilidad de clasificación en cada categoría.\n",
    "\n",
    "Sin embargo, si bien Random Forest es un modelo más complejo y menos interpretable a nivel tecnico (debido a que combina múltiples árboles de decisión), ofrece técnicas como la importancia de características que pueden ser útiles para explicar qué variables están teniendo un mayor peso en las predicciones. Estas técnicas permiten alinear la interpretación del modelo con las necesidades del cliente, proporcionando información valiosa sobre los factores que más influyen en el engagement del jugador. Ademas, tenemos la posiblidad de graficar el arbol de decision, que mejor se ajusta, lo que hace que se vuelva muy grafico e interpretable para el usuario clave. \n",
    "\n",
    "5. Valor Final de la Métrica\n",
    "Dado el rendimiento observado en el modelo, se espera que el modelo de Random Forest logre un accuracy final cercano a 0.91 en el conjunto de test. Este valor es suficientemente alto como para ofrecer un modelo confiable en la clasificación de engagement de los jugadores, optimizando así la oferta de información y promociones personalizadas, objetivo central de este trabajo.\n",
    "\n",
    "Conclusión Final\n",
    "El modelo de Random Forest ha sido elegido como el modelo ganador debido a su mayor capacidad de clasificación, bajo overfitting, y habilidad para capturar relaciones complejas entre las variables, sin sacrificar tiempos de entrenamiento de manera significativa. Aunque la Regresión Logística tiene la ventaja de una mayor interpretabilidad, la superioridad de Random Forest en rendimiento y generalización lo convierte en la mejor opción para resolver el problema planteado. El valor final de accuracy estimado para ser informado a un cliente sería aproximadamente 0.91."
   ]
  },
  {
   "cell_type": "markdown",
   "id": "fc18339c-0419-4f00-9471-b57b96b80d55",
   "metadata": {},
   "source": [
    "### Graficos de dispersion para Random Forest"
   ]
  },
  {
   "cell_type": "code",
   "execution_count": null,
   "id": "a6d99a1b-f709-4f6b-ba1f-ae700d2c025b",
   "metadata": {},
   "outputs": [],
   "source": [
    "# Realizar predicciones en el conjunto de test\n",
    "y_pred = pipeline_rf.predict(X_test)\n",
    "\n",
    "# Crear un DataFrame con las predicciones y los valores reales\n",
    "result_df = X_test.copy()\n",
    "result_df['Actual'] = y_test\n",
    "result_df['Predicted'] = y_pred\n",
    "\n",
    "# Columna que indica si fue acierto o error\n",
    "result_df['Correct'] = result_df['Actual'] == result_df['Predicted']\n"
   ]
  },
  {
   "cell_type": "code",
   "execution_count": null,
   "id": "70db9363-7f43-43fb-8959-898eb9241e9e",
   "metadata": {},
   "outputs": [],
   "source": [
    "# Graficar pares de variables\n",
    "def plot_scatter(variable_x, variable_y, df):\n",
    "    plt.figure(figsize=(10, 6))\n",
    "    sns.scatterplot(x=df[variable_x], y=df[variable_y], hue=df['Correct'], palette={True: 'green', False: 'red'}, alpha=0.6)\n",
    "    plt.title(f'Diagrama de dispersión: {variable_x} vs {variable_y}')\n",
    "    plt.xlabel(variable_x)\n",
    "    plt.ylabel(variable_y)\n",
    "    plt.legend(title='Acierto', loc='upper right')\n",
    "    plt.show()\n",
    "\n",
    "plot_scatter('Age', 'PlayerLevel', result_df)\n",
    "\n",
    "# Puedes probar otros pares de variables\n",
    "plot_scatter('PlayTimeHours', 'Location', result_df)\n",
    "\n",
    "plot_scatter('GameDifficulty', 'SessionsPerWeek', result_df)\n",
    "\n",
    "plot_scatter('Age', 'SessionsPerWeek', result_df)\n",
    "\n",
    "plot_scatter('PlayTimeHours', 'SessionsPerWeek', result_df)\n",
    "\n",
    "plot_scatter('PlayTimeHours', 'GameGenre', result_df)"
   ]
  },
  {
   "cell_type": "markdown",
   "id": "0415c2a5-94a8-4d18-a9bf-6185b7e62f0f",
   "metadata": {},
   "source": [
    "### Evaluacion de importancia en las variables de Random Forest"
   ]
  },
  {
   "cell_type": "code",
   "execution_count": null,
   "id": "7234784e-8067-4fdf-8afd-fdc768357d1b",
   "metadata": {},
   "outputs": [],
   "source": [
    "# Obtener la importancia de las variables en el modelo Random Forest\n",
    "importances = pipeline_rf.named_steps['classifier'].feature_importances_\n",
    "feature_names = mapper.transformed_names_\n",
    "\n",
    "# Crear un DataFrame para visualizar las importancias\n",
    "importance_df = pd.DataFrame({\n",
    "    'Feature': feature_names,\n",
    "    'Importance': importances\n",
    "}).sort_values(by='Importance', ascending=False)\n",
    "\n",
    "# Graficar la importancia de las variables\n",
    "plt.figure(figsize=(12, 8))\n",
    "sns.barplot(x='Importance', y='Feature', data=importance_df, palette='viridis')\n",
    "plt.title('Importancia de las variables en el Random Forest')\n",
    "plt.show()\n"
   ]
  },
  {
   "cell_type": "markdown",
   "id": "db104515-6fa3-462e-9496-e2a37f35110b",
   "metadata": {},
   "source": [
    "A partir del gráfico de **importancia de variables** en el modelo de **Random Forest**, podemos observar algunas conclusiones clave:\r\n",
    "\r\n",
    "#### 1. **Variables más importantes**:\r\n",
    "   - **SessionsPerWeek**: Esta variable tiene la mayor importancia, lo que sugiere que la cantidad de sesiones por semana de un jugador es el factor más relevante para el modelo a la hora de hacer predicciones. Esto indica que los jugadores que juegan más frecuentemente tienden a seguir ciertos patrones que son clave para predecir su comportamiento.\r\n",
    "   - **AvgSessionDurationMinutes**: La duración promedio de cada sesión también es muy importante. Esto puede sugerir que el tiempo que los jugadores dedican en cada sesión influye en la predicción, quizás relacionado con su compromiso o nivel de dedicación al jugo.\r",
    "#\n",
    "\r\n",
    "### 2. **Variables de menor importancia**:\r\n",
    "   - **GameGenre, Location, Gender**: Estas variables parecen tener una importancia significativamente menor en el modelo. Esto indica que el tipo de juego que prefieren, la ubicación geográfica, y el género del jugador no son factores tan determinantes en comparación con la frecuencia o duración de las sesiones.\r\n",
    "   - **InGamePurchases** y **GameDifficulty**: También tienen un peso menor, lo que sugiere que, en este modelo, las compras dentro del juego y la dificultad percibida no son tan útiles para predecir el comportamiento o clasificaciones de los jugador#es.\r\n",
    "\r\n",
    "### 3. **Conclusión general**:\r\n",
    "   - El modelo de Random Forest asigna mayor importancia a las variables relacionadas con el **comportamiento y hábitos de juego** (número de sesiones por semana y duración de las sesiones), mientras que factores **demográficos** y **preferencias** (género, ubicación, género de juego) tienen un impacto mucho menor en las predicciones. Esto podría significar que el comportamiento activo y la dedicación al juego son más relevantes que las características individuales o preferencias de los jugadores.\r\n",
    "\r\n",
    "Este análisis podría sugerir que futuras mejoras o estudios del comportamiento de los jugadores deberían centrarse más en analizar patrones de uso y menos en características demográficas, ya que estas últimas parecen tener menos influencia en el rendimiento del modelo."
   ]
  }
 ],
 "metadata": {
  "kernelspec": {
   "display_name": "Python 3 (ipykernel)",
   "language": "python",
   "name": "python3"
  },
  "language_info": {
   "codemirror_mode": {
    "name": "ipython",
    "version": 3
   },
   "file_extension": ".py",
   "mimetype": "text/x-python",
   "name": "python",
   "nbconvert_exporter": "python",
   "pygments_lexer": "ipython3",
   "version": "3.12.4"
  }
 },
 "nbformat": 4,
 "nbformat_minor": 5
}
